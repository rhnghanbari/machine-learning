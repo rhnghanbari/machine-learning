{
  "nbformat": 4,
  "nbformat_minor": 0,
  "metadata": {
    "colab": {
      "name": "air pollution.ipynb",
      "provenance": [],
      "collapsed_sections": [
        "9BVlMaUrl0AB",
        "_DM9r5ppu3sH",
        "iQFA51tTMvIA",
        "f-JsPtVivyQK",
        "fJT_CCSYuwqR"
      ]
    },
    "kernelspec": {
      "name": "python3",
      "display_name": "Python 3"
    },
    "language_info": {
      "name": "python"
    }
  },
  "cells": [
    {
      "cell_type": "code",
      "metadata": {
        "id": "6jureBDFbo31"
      },
      "source": [
        "from google.colab import files\n",
        "import numpy as np\n",
        "import matplotlib.pyplot as plt\n",
        "import pandas as pd\n",
        "import requests\n",
        "import io\n",
        "import openpyxl\n"
      ],
      "execution_count": 2,
      "outputs": []
    },
    {
      "cell_type": "code",
      "metadata": {
        "colab": {
          "resources": {
            "http://localhost:8080/nbextensions/google.colab/files.js": {
              "data": "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",
              "ok": true,
              "headers": [
                [
                  "content-type",
                  "application/javascript"
                ]
              ],
              "status": 200,
              "status_text": ""
            }
          },
          "base_uri": "https://localhost:8080/",
          "height": 541
        },
        "id": "4gIZQ3JYb7rk",
        "outputId": "5d221868-ec8d-4c66-8e8f-de8ef1978b2e"
      },
      "source": [
        "'upload file from pc'\n",
        "uploaded = files.upload()\n"
      ],
      "execution_count": 4,
      "outputs": [
        {
          "output_type": "display_data",
          "data": {
            "text/html": [
              "\n",
              "     <input type=\"file\" id=\"files-54bbe971-e89a-41ac-90e6-105f4b6608e9\" name=\"files[]\" multiple disabled\n",
              "        style=\"border:none\" />\n",
              "     <output id=\"result-54bbe971-e89a-41ac-90e6-105f4b6608e9\">\n",
              "      Upload widget is only available when the cell has been executed in the\n",
              "      current browser session. Please rerun this cell to enable.\n",
              "      </output>\n",
              "      <script src=\"/nbextensions/google.colab/files.js\"></script> "
            ],
            "text/plain": [
              "<IPython.core.display.HTML object>"
            ]
          },
          "metadata": {
            "tags": []
          }
        },
        {
          "output_type": "stream",
          "text": [
            "Saving tehran1.csv to tehran1.csv\n",
            "Saving tehran2.csv to tehran2.csv\n",
            "Saving tehran3.csv to tehran3.csv\n",
            "Saving tehran4.csv to tehran4.csv\n",
            "Saving tehran5.csv to tehran5.csv\n",
            "Saving tehran6.csv to tehran6.csv\n",
            "Saving tehran7.csv to tehran7.csv\n",
            "Saving tehran8.csv to tehran8.csv\n",
            "Saving tehran9.csv to tehran9.csv\n",
            "Saving tehran10.csv to tehran10.csv\n",
            "Saving tehran11.csv to tehran11.csv\n",
            "Saving tehran12.csv to tehran12.csv\n",
            "Saving tehran13.csv to tehran13.csv\n",
            "Saving tehran14.csv to tehran14.csv\n",
            "Saving tehran15.csv to tehran15.csv\n"
          ],
          "name": "stdout"
        }
      ]
    },
    {
      "cell_type": "code",
      "metadata": {
        "id": "yM7ctvnTcM2N"
      },
      "source": [
        "data=[]\n",
        "for num in range(1,16):\n",
        "   report= pd.read_csv(io.BytesIO(uploaded['tehran%s.csv'%num]))\n",
        "   report=report.replace(r'^\\s*$', np.nan, regex=True)\n",
        "   data.append(report)   "
      ],
      "execution_count": 5,
      "outputs": []
    },
    {
      "cell_type": "code",
      "metadata": {
        "colab": {
          "base_uri": "https://localhost:8080/"
        },
        "id": "uEEcxELk5zXL",
        "outputId": "763646d8-e594-4d76-c69e-0d35018b733d"
      },
      "source": [
        "for num in range(1,16):\n",
        "  d=data[num-1]['date']\n",
        "  print('data set%s is from'%num,data[num-1]['date'][len(d)-1],'until', data[num-1]['date'][0])"
      ],
      "execution_count": 369,
      "outputs": [
        {
          "output_type": "stream",
          "text": [
            "data set1 is from 2018/12/29 until 2021/6/1\n",
            "data set2 is from 2018/9/29 until 2021/6/1\n",
            "data set3 is from 2018/6/14 until 2021/6/1\n",
            "data set4 is from 2019/9/21 until 2021/6/1\n",
            "data set5 is from 2015/6/11 until 2021/6/1\n",
            "data set6 is from 2019/9/13 until 2021/6/1\n",
            "data set7 is from 2018/9/22 until 2021/6/1\n",
            "data set8 is from 2018/6/7 until 2021/6/1\n",
            "data set9 is from 2018/8/29 until 2021/6/1\n",
            "data set10 is from 2018/10/14 until 2021/6/1\n",
            "data set11 is from 2015/6/23 until 2021/6/1\n",
            "data set12 is from 2018/9/8 until 2021/6/1\n",
            "data set13 is from 2018/10/5 until 2021/6/1\n",
            "data set14 is from 2016/1/2 until 2020/1/1\n",
            "data set15 is from 2016/10/15 until 2017/4/6\n"
          ],
          "name": "stdout"
        }
      ]
    },
    {
      "cell_type": "code",
      "metadata": {
        "id": "2f5yJGHuivQ-"
      },
      "source": [
        "for num in range(1,15):\n",
        " for index in data[num-1].index:\n",
        "    if type(data[num-1].loc[index,'date'])!=float:\n",
        "        try:\n",
        "            data[num-1].loc[index,'year']=int(data[num-1].loc[index,'date'].split()[1].replace(',',''))\n",
        "            data[num-1].loc[index,'Month']=data[num-1].loc[index,'date'].split()[0]\n",
        "            data[num-1].loc[index,'day']=data[num-1].loc[index,'date'].split()[2]\n",
        "        except:\n",
        "            data[num-1].loc[index,'year']=int(data[num-1].loc[index,'date'].split('/')[0])\n",
        "            data[num-1].loc[index,'Month']=data[num-1].loc[index,'date'].split('/')[1]\n",
        "            data[num-1].loc[index,'day']=data[num-1].loc[index,'date'].split('/')[2]\n",
        "            \n",
        "#  data[num-1].drop('date',axis=1,inplace=True)"
      ],
      "execution_count": 284,
      "outputs": []
    },
    {
      "cell_type": "markdown",
      "metadata": {
        "id": "9CWIO-G7livz"
      },
      "source": [
        "list of time"
      ]
    },
    {
      "cell_type": "code",
      "metadata": {
        "id": "Jq6sdpVRjw4m"
      },
      "source": [
        "def make_list(num):\n",
        "  st=[] \n",
        "  for i in range(data[num].shape[0]):\n",
        "     \n",
        "      st.append(data[num].iloc[i]['date'].replace('/','-'))\n",
        "\n",
        "\n",
        "  return st      "
      ],
      "execution_count": 285,
      "outputs": []
    },
    {
      "cell_type": "code",
      "metadata": {
        "id": "keiojth0k6Yy"
      },
      "source": [
        "org_time_lst=[]\n",
        "for num in range(0,13):\n",
        "  org_time_lst.append(make_list(num))"
      ],
      "execution_count": 286,
      "outputs": []
    },
    {
      "cell_type": "code",
      "metadata": {
        "id": "wFPgMciwjbrL"
      },
      "source": [
        "maxi_len=len(org_time_lst[12])"
      ],
      "execution_count": 187,
      "outputs": []
    },
    {
      "cell_type": "markdown",
      "metadata": {
        "id": "txLMcuyT_IfA"
      },
      "source": [
        "i will use data set 1 to 13 because they support untill 2021\n",
        "\n",
        "fiil nan with median"
      ]
    },
    {
      "cell_type": "code",
      "metadata": {
        "id": "CpecCQJO_dwK"
      },
      "source": [
        "for num in range(0,14):\n",
        "   data[num]=data[num].fillna(data[num].median())"
      ],
      "execution_count": 11,
      "outputs": []
    },
    {
      "cell_type": "code",
      "metadata": {
        "colab": {
          "base_uri": "https://localhost:8080/",
          "height": 415
        },
        "id": "xYBYEpI7mF7d",
        "outputId": "4b810914-36ca-420e-ff1e-b04f0a4ed03f"
      },
      "source": [
        "data[2]"
      ],
      "execution_count": 12,
      "outputs": [
        {
          "output_type": "execute_result",
          "data": {
            "text/html": [
              "<div>\n",
              "<style scoped>\n",
              "    .dataframe tbody tr th:only-of-type {\n",
              "        vertical-align: middle;\n",
              "    }\n",
              "\n",
              "    .dataframe tbody tr th {\n",
              "        vertical-align: top;\n",
              "    }\n",
              "\n",
              "    .dataframe thead th {\n",
              "        text-align: right;\n",
              "    }\n",
              "</style>\n",
              "<table border=\"1\" class=\"dataframe\">\n",
              "  <thead>\n",
              "    <tr style=\"text-align: right;\">\n",
              "      <th></th>\n",
              "      <th>date</th>\n",
              "      <th>pm25</th>\n",
              "      <th>pm10</th>\n",
              "      <th>o3</th>\n",
              "      <th>no2</th>\n",
              "      <th>so2</th>\n",
              "      <th>co</th>\n",
              "      <th>year</th>\n",
              "      <th>Month</th>\n",
              "      <th>day</th>\n",
              "    </tr>\n",
              "  </thead>\n",
              "  <tbody>\n",
              "    <tr>\n",
              "      <th>0</th>\n",
              "      <td>2021/6/1</td>\n",
              "      <td>66</td>\n",
              "      <td>41</td>\n",
              "      <td>22</td>\n",
              "      <td>33</td>\n",
              "      <td>12</td>\n",
              "      <td>31</td>\n",
              "      <td>2021.0</td>\n",
              "      <td>6</td>\n",
              "      <td>1</td>\n",
              "    </tr>\n",
              "    <tr>\n",
              "      <th>1</th>\n",
              "      <td>2021/6/2</td>\n",
              "      <td>73</td>\n",
              "      <td>52</td>\n",
              "      <td>22</td>\n",
              "      <td>38</td>\n",
              "      <td>15</td>\n",
              "      <td>21</td>\n",
              "      <td>2021.0</td>\n",
              "      <td>6</td>\n",
              "      <td>2</td>\n",
              "    </tr>\n",
              "    <tr>\n",
              "      <th>2</th>\n",
              "      <td>2021/6/5</td>\n",
              "      <td>64</td>\n",
              "      <td>45</td>\n",
              "      <td>22</td>\n",
              "      <td>18</td>\n",
              "      <td>13</td>\n",
              "      <td>11</td>\n",
              "      <td>2021.0</td>\n",
              "      <td>6</td>\n",
              "      <td>5</td>\n",
              "    </tr>\n",
              "    <tr>\n",
              "      <th>3</th>\n",
              "      <td>2021/6/6</td>\n",
              "      <td>73</td>\n",
              "      <td>49</td>\n",
              "      <td>22</td>\n",
              "      <td>22</td>\n",
              "      <td>14</td>\n",
              "      <td>20</td>\n",
              "      <td>2021.0</td>\n",
              "      <td>6</td>\n",
              "      <td>6</td>\n",
              "    </tr>\n",
              "    <tr>\n",
              "      <th>4</th>\n",
              "      <td>2021/6/7</td>\n",
              "      <td>70</td>\n",
              "      <td>43</td>\n",
              "      <td>22</td>\n",
              "      <td>29</td>\n",
              "      <td>14</td>\n",
              "      <td>25</td>\n",
              "      <td>2021.0</td>\n",
              "      <td>6</td>\n",
              "      <td>7</td>\n",
              "    </tr>\n",
              "    <tr>\n",
              "      <th>...</th>\n",
              "      <td>...</td>\n",
              "      <td>...</td>\n",
              "      <td>...</td>\n",
              "      <td>...</td>\n",
              "      <td>...</td>\n",
              "      <td>...</td>\n",
              "      <td>...</td>\n",
              "      <td>...</td>\n",
              "      <td>...</td>\n",
              "      <td>...</td>\n",
              "    </tr>\n",
              "    <tr>\n",
              "      <th>764</th>\n",
              "      <td>2018/6/9</td>\n",
              "      <td>77</td>\n",
              "      <td>52</td>\n",
              "      <td>22</td>\n",
              "      <td>38</td>\n",
              "      <td>33</td>\n",
              "      <td>21</td>\n",
              "      <td>2018.0</td>\n",
              "      <td>6</td>\n",
              "      <td>9</td>\n",
              "    </tr>\n",
              "    <tr>\n",
              "      <th>765</th>\n",
              "      <td>2018/6/10</td>\n",
              "      <td>77</td>\n",
              "      <td>52</td>\n",
              "      <td>22</td>\n",
              "      <td>38</td>\n",
              "      <td>33</td>\n",
              "      <td>21</td>\n",
              "      <td>2018.0</td>\n",
              "      <td>6</td>\n",
              "      <td>10</td>\n",
              "    </tr>\n",
              "    <tr>\n",
              "      <th>766</th>\n",
              "      <td>2018/6/12</td>\n",
              "      <td>77</td>\n",
              "      <td>52</td>\n",
              "      <td>22</td>\n",
              "      <td>38</td>\n",
              "      <td>31</td>\n",
              "      <td>21</td>\n",
              "      <td>2018.0</td>\n",
              "      <td>6</td>\n",
              "      <td>12</td>\n",
              "    </tr>\n",
              "    <tr>\n",
              "      <th>767</th>\n",
              "      <td>2018/6/13</td>\n",
              "      <td>77</td>\n",
              "      <td>52</td>\n",
              "      <td>22</td>\n",
              "      <td>38</td>\n",
              "      <td>31</td>\n",
              "      <td>21</td>\n",
              "      <td>2018.0</td>\n",
              "      <td>6</td>\n",
              "      <td>13</td>\n",
              "    </tr>\n",
              "    <tr>\n",
              "      <th>768</th>\n",
              "      <td>2018/6/14</td>\n",
              "      <td>77</td>\n",
              "      <td>52</td>\n",
              "      <td>22</td>\n",
              "      <td>38</td>\n",
              "      <td>33</td>\n",
              "      <td>21</td>\n",
              "      <td>2018.0</td>\n",
              "      <td>6</td>\n",
              "      <td>14</td>\n",
              "    </tr>\n",
              "  </tbody>\n",
              "</table>\n",
              "<p>769 rows × 10 columns</p>\n",
              "</div>"
            ],
            "text/plain": [
              "          date  pm25  pm10  o3  no2  so2   co    year Month day\n",
              "0     2021/6/1    66    41  22   33   12   31  2021.0     6   1\n",
              "1     2021/6/2    73    52  22   38   15   21  2021.0     6   2\n",
              "2     2021/6/5    64    45  22   18   13   11  2021.0     6   5\n",
              "3     2021/6/6    73    49  22   22   14   20  2021.0     6   6\n",
              "4     2021/6/7    70    43  22   29   14   25  2021.0     6   7\n",
              "..         ...   ...   ...  ..  ...  ...  ...     ...   ...  ..\n",
              "764   2018/6/9    77    52  22   38   33   21  2018.0     6   9\n",
              "765  2018/6/10    77    52  22   38   33   21  2018.0     6  10\n",
              "766  2018/6/12    77    52  22   38   31   21  2018.0     6  12\n",
              "767  2018/6/13    77    52  22   38   31   21  2018.0     6  13\n",
              "768  2018/6/14    77    52  22   38   33   21  2018.0     6  14\n",
              "\n",
              "[769 rows x 10 columns]"
            ]
          },
          "metadata": {
            "tags": []
          },
          "execution_count": 12
        }
      ]
    },
    {
      "cell_type": "code",
      "metadata": {
        "colab": {
          "base_uri": "https://localhost:8080/"
        },
        "id": "vf_LNpmhvLb1",
        "outputId": "69d911a4-ae8b-428b-9d6d-621ddb53abbe"
      },
      "source": [
        "col_list=list(data[2].columns)\n",
        "col_list"
      ],
      "execution_count": 13,
      "outputs": [
        {
          "output_type": "execute_result",
          "data": {
            "text/plain": [
              "['date',\n",
              " ' pm25',\n",
              " ' pm10',\n",
              " ' o3',\n",
              " ' no2',\n",
              " ' so2',\n",
              " ' co',\n",
              " 'year',\n",
              " 'Month',\n",
              " 'day']"
            ]
          },
          "metadata": {
            "tags": []
          },
          "execution_count": 13
        }
      ]
    },
    {
      "cell_type": "markdown",
      "metadata": {
        "id": "jO6HbmO_qcbw"
      },
      "source": [
        "same columns for all data sets"
      ]
    },
    {
      "cell_type": "code",
      "metadata": {
        "id": "ORxr5K7vLS_b"
      },
      "source": [
        "col_list=list(data[2].columns)\n",
        "for num in range(0,14):\n",
        "  list_difference = [item for item in col_list if item not in data[num].columns]\n",
        "  for i in range(len(list_difference)):\n",
        "       data[num][list_difference[i]]=0"
      ],
      "execution_count": 14,
      "outputs": []
    },
    {
      "cell_type": "code",
      "metadata": {
        "colab": {
          "base_uri": "https://localhost:8080/",
          "height": 415
        },
        "id": "coB00pO_wMNY",
        "outputId": "3694bde3-acb3-4225-ea4c-de8b52747fe3"
      },
      "source": [
        "data[0]"
      ],
      "execution_count": 15,
      "outputs": [
        {
          "output_type": "execute_result",
          "data": {
            "text/html": [
              "<div>\n",
              "<style scoped>\n",
              "    .dataframe tbody tr th:only-of-type {\n",
              "        vertical-align: middle;\n",
              "    }\n",
              "\n",
              "    .dataframe tbody tr th {\n",
              "        vertical-align: top;\n",
              "    }\n",
              "\n",
              "    .dataframe thead th {\n",
              "        text-align: right;\n",
              "    }\n",
              "</style>\n",
              "<table border=\"1\" class=\"dataframe\">\n",
              "  <thead>\n",
              "    <tr style=\"text-align: right;\">\n",
              "      <th></th>\n",
              "      <th>date</th>\n",
              "      <th>pm25</th>\n",
              "      <th>pm10</th>\n",
              "      <th>o3</th>\n",
              "      <th>no2</th>\n",
              "      <th>co</th>\n",
              "      <th>year</th>\n",
              "      <th>Month</th>\n",
              "      <th>day</th>\n",
              "      <th>so2</th>\n",
              "    </tr>\n",
              "  </thead>\n",
              "  <tbody>\n",
              "    <tr>\n",
              "      <th>0</th>\n",
              "      <td>2021/6/1</td>\n",
              "      <td>64</td>\n",
              "      <td>58</td>\n",
              "      <td>15</td>\n",
              "      <td>12</td>\n",
              "      <td>30</td>\n",
              "      <td>2021.0</td>\n",
              "      <td>6</td>\n",
              "      <td>1</td>\n",
              "      <td>0</td>\n",
              "    </tr>\n",
              "    <tr>\n",
              "      <th>1</th>\n",
              "      <td>2021/6/2</td>\n",
              "      <td>77</td>\n",
              "      <td>58</td>\n",
              "      <td>15</td>\n",
              "      <td>12</td>\n",
              "      <td>30</td>\n",
              "      <td>2021.0</td>\n",
              "      <td>6</td>\n",
              "      <td>2</td>\n",
              "      <td>0</td>\n",
              "    </tr>\n",
              "    <tr>\n",
              "      <th>2</th>\n",
              "      <td>2021/6/5</td>\n",
              "      <td>77</td>\n",
              "      <td>58</td>\n",
              "      <td>15</td>\n",
              "      <td>12</td>\n",
              "      <td>30</td>\n",
              "      <td>2021.0</td>\n",
              "      <td>6</td>\n",
              "      <td>5</td>\n",
              "      <td>0</td>\n",
              "    </tr>\n",
              "    <tr>\n",
              "      <th>3</th>\n",
              "      <td>2021/6/6</td>\n",
              "      <td>88</td>\n",
              "      <td>58</td>\n",
              "      <td>15</td>\n",
              "      <td>12</td>\n",
              "      <td>30</td>\n",
              "      <td>2021.0</td>\n",
              "      <td>6</td>\n",
              "      <td>6</td>\n",
              "      <td>0</td>\n",
              "    </tr>\n",
              "    <tr>\n",
              "      <th>4</th>\n",
              "      <td>2021/6/7</td>\n",
              "      <td>87</td>\n",
              "      <td>58</td>\n",
              "      <td>15</td>\n",
              "      <td>12</td>\n",
              "      <td>30</td>\n",
              "      <td>2021.0</td>\n",
              "      <td>6</td>\n",
              "      <td>7</td>\n",
              "      <td>0</td>\n",
              "    </tr>\n",
              "    <tr>\n",
              "      <th>...</th>\n",
              "      <td>...</td>\n",
              "      <td>...</td>\n",
              "      <td>...</td>\n",
              "      <td>...</td>\n",
              "      <td>...</td>\n",
              "      <td>...</td>\n",
              "      <td>...</td>\n",
              "      <td>...</td>\n",
              "      <td>...</td>\n",
              "      <td>...</td>\n",
              "    </tr>\n",
              "    <tr>\n",
              "      <th>929</th>\n",
              "      <td>2018/12/11</td>\n",
              "      <td>87</td>\n",
              "      <td>64</td>\n",
              "      <td>15</td>\n",
              "      <td>12</td>\n",
              "      <td>35</td>\n",
              "      <td>2018.0</td>\n",
              "      <td>12</td>\n",
              "      <td>11</td>\n",
              "      <td>0</td>\n",
              "    </tr>\n",
              "    <tr>\n",
              "      <th>930</th>\n",
              "      <td>2018/12/13</td>\n",
              "      <td>87</td>\n",
              "      <td>61</td>\n",
              "      <td>15</td>\n",
              "      <td>12</td>\n",
              "      <td>38</td>\n",
              "      <td>2018.0</td>\n",
              "      <td>12</td>\n",
              "      <td>13</td>\n",
              "      <td>0</td>\n",
              "    </tr>\n",
              "    <tr>\n",
              "      <th>931</th>\n",
              "      <td>2018/9/11</td>\n",
              "      <td>87</td>\n",
              "      <td>60</td>\n",
              "      <td>15</td>\n",
              "      <td>102</td>\n",
              "      <td>36</td>\n",
              "      <td>2018.0</td>\n",
              "      <td>9</td>\n",
              "      <td>11</td>\n",
              "      <td>0</td>\n",
              "    </tr>\n",
              "    <tr>\n",
              "      <th>932</th>\n",
              "      <td>2019/11/28</td>\n",
              "      <td>87</td>\n",
              "      <td>58</td>\n",
              "      <td>15</td>\n",
              "      <td>12</td>\n",
              "      <td>19</td>\n",
              "      <td>2019.0</td>\n",
              "      <td>11</td>\n",
              "      <td>28</td>\n",
              "      <td>0</td>\n",
              "    </tr>\n",
              "    <tr>\n",
              "      <th>933</th>\n",
              "      <td>2018/12/29</td>\n",
              "      <td>87</td>\n",
              "      <td>58</td>\n",
              "      <td>15</td>\n",
              "      <td>12</td>\n",
              "      <td>23</td>\n",
              "      <td>2018.0</td>\n",
              "      <td>12</td>\n",
              "      <td>29</td>\n",
              "      <td>0</td>\n",
              "    </tr>\n",
              "  </tbody>\n",
              "</table>\n",
              "<p>934 rows × 10 columns</p>\n",
              "</div>"
            ],
            "text/plain": [
              "           date  pm25  pm10  o3   no2   co    year Month day   so2\n",
              "0      2021/6/1    64    58  15    12   30  2021.0     6   1     0\n",
              "1      2021/6/2    77    58  15    12   30  2021.0     6   2     0\n",
              "2      2021/6/5    77    58  15    12   30  2021.0     6   5     0\n",
              "3      2021/6/6    88    58  15    12   30  2021.0     6   6     0\n",
              "4      2021/6/7    87    58  15    12   30  2021.0     6   7     0\n",
              "..          ...   ...   ...  ..   ...  ...     ...   ...  ..   ...\n",
              "929  2018/12/11    87    64  15    12   35  2018.0    12  11     0\n",
              "930  2018/12/13    87    61  15    12   38  2018.0    12  13     0\n",
              "931   2018/9/11    87    60  15   102   36  2018.0     9  11     0\n",
              "932  2019/11/28    87    58  15    12   19  2019.0    11  28     0\n",
              "933  2018/12/29    87    58  15    12   23  2018.0    12  29     0\n",
              "\n",
              "[934 rows x 10 columns]"
            ]
          },
          "metadata": {
            "tags": []
          },
          "execution_count": 15
        }
      ]
    },
    {
      "cell_type": "markdown",
      "metadata": {
        "id": "9BVlMaUrl0AB"
      },
      "source": [
        "# make new data frame"
      ]
    },
    {
      "cell_type": "markdown",
      "metadata": {
        "id": "WWQWqDBEN6Pv"
      },
      "source": [
        "all date from 9/1/2019 until 6/23/2021"
      ]
    },
    {
      "cell_type": "code",
      "metadata": {
        "id": "O2_6RBvgVyfv"
      },
      "source": [
        "start='9/1/2018'\n",
        "end='6/23/2021'\n",
        "time=pd.date_range(start=start,end=end)"
      ],
      "execution_count": 387,
      "outputs": []
    },
    {
      "cell_type": "code",
      "metadata": {
        "colab": {
          "base_uri": "https://localhost:8080/"
        },
        "id": "0caQjUBC5CaN",
        "outputId": "99754664-d707-4c1e-b366-1302bcd75fc8"
      },
      "source": [
        "deltat=len(time)\n",
        "deltat"
      ],
      "execution_count": 388,
      "outputs": [
        {
          "output_type": "execute_result",
          "data": {
            "text/plain": [
              "1027"
            ]
          },
          "metadata": {
            "tags": []
          },
          "execution_count": 388
        }
      ]
    },
    {
      "cell_type": "code",
      "metadata": {
        "id": "SH4JxUOydwr9"
      },
      "source": [
        "date_list=[]\n",
        "for i in range(deltat):\n",
        "  a=str(time[i]).replace(' 00:00:00','')\n",
        "  a=a.replace('01','1')\n",
        "  a=a.replace('02','2')\n",
        "  a=a.replace('03','3')\n",
        "  a=a.replace('04','4')\n",
        "  a=a.replace('05','5')\n",
        "  a=a.replace('06','6')\n",
        "  a=a.replace('07','7')\n",
        "  a=a.replace('08','8')\n",
        "  a=a.replace('09','9')\n",
        "  a=a.replace('221','2021')\n",
        "  a=a.replace('220','2020')\n",
        "  a=a.replace('219','2019')\n",
        "  a=a.replace('218','2018')\n",
        "  date_list.append(a)\n",
        "    "
      ],
      "execution_count": 389,
      "outputs": []
    },
    {
      "cell_type": "code",
      "metadata": {
        "id": "1n2ec8aXc55U"
      },
      "source": [
        "date_list"
      ],
      "execution_count": null,
      "outputs": []
    },
    {
      "cell_type": "code",
      "metadata": {
        "id": "dTIP8IAeqbzT"
      },
      "source": [
        "df = pd.DataFrame(columns = ['date','pm25', 'pm10', 'o3', 'no2', 'so2', 'co']) \n",
        "df['date']=time"
      ],
      "execution_count": 391,
      "outputs": []
    },
    {
      "cell_type": "code",
      "metadata": {
        "colab": {
          "base_uri": "https://localhost:8080/",
          "height": 415
        },
        "id": "np6n7PLoXPNI",
        "outputId": "9e9bf59e-a697-446e-d0a2-ffeeefad7536"
      },
      "source": [
        "df['year']=df['date'].dt.year\n",
        "df['month'] = df['date'].dt.month\n",
        "df['day']=df['date'].dt.day\n",
        "df=df.fillna(0)\n",
        "df"
      ],
      "execution_count": 392,
      "outputs": [
        {
          "output_type": "execute_result",
          "data": {
            "text/html": [
              "<div>\n",
              "<style scoped>\n",
              "    .dataframe tbody tr th:only-of-type {\n",
              "        vertical-align: middle;\n",
              "    }\n",
              "\n",
              "    .dataframe tbody tr th {\n",
              "        vertical-align: top;\n",
              "    }\n",
              "\n",
              "    .dataframe thead th {\n",
              "        text-align: right;\n",
              "    }\n",
              "</style>\n",
              "<table border=\"1\" class=\"dataframe\">\n",
              "  <thead>\n",
              "    <tr style=\"text-align: right;\">\n",
              "      <th></th>\n",
              "      <th>date</th>\n",
              "      <th>pm25</th>\n",
              "      <th>pm10</th>\n",
              "      <th>o3</th>\n",
              "      <th>no2</th>\n",
              "      <th>so2</th>\n",
              "      <th>co</th>\n",
              "      <th>year</th>\n",
              "      <th>month</th>\n",
              "      <th>day</th>\n",
              "    </tr>\n",
              "  </thead>\n",
              "  <tbody>\n",
              "    <tr>\n",
              "      <th>0</th>\n",
              "      <td>2018-09-01</td>\n",
              "      <td>0</td>\n",
              "      <td>0</td>\n",
              "      <td>0</td>\n",
              "      <td>0</td>\n",
              "      <td>0</td>\n",
              "      <td>0</td>\n",
              "      <td>2018</td>\n",
              "      <td>9</td>\n",
              "      <td>1</td>\n",
              "    </tr>\n",
              "    <tr>\n",
              "      <th>1</th>\n",
              "      <td>2018-09-02</td>\n",
              "      <td>0</td>\n",
              "      <td>0</td>\n",
              "      <td>0</td>\n",
              "      <td>0</td>\n",
              "      <td>0</td>\n",
              "      <td>0</td>\n",
              "      <td>2018</td>\n",
              "      <td>9</td>\n",
              "      <td>2</td>\n",
              "    </tr>\n",
              "    <tr>\n",
              "      <th>2</th>\n",
              "      <td>2018-09-03</td>\n",
              "      <td>0</td>\n",
              "      <td>0</td>\n",
              "      <td>0</td>\n",
              "      <td>0</td>\n",
              "      <td>0</td>\n",
              "      <td>0</td>\n",
              "      <td>2018</td>\n",
              "      <td>9</td>\n",
              "      <td>3</td>\n",
              "    </tr>\n",
              "    <tr>\n",
              "      <th>3</th>\n",
              "      <td>2018-09-04</td>\n",
              "      <td>0</td>\n",
              "      <td>0</td>\n",
              "      <td>0</td>\n",
              "      <td>0</td>\n",
              "      <td>0</td>\n",
              "      <td>0</td>\n",
              "      <td>2018</td>\n",
              "      <td>9</td>\n",
              "      <td>4</td>\n",
              "    </tr>\n",
              "    <tr>\n",
              "      <th>4</th>\n",
              "      <td>2018-09-05</td>\n",
              "      <td>0</td>\n",
              "      <td>0</td>\n",
              "      <td>0</td>\n",
              "      <td>0</td>\n",
              "      <td>0</td>\n",
              "      <td>0</td>\n",
              "      <td>2018</td>\n",
              "      <td>9</td>\n",
              "      <td>5</td>\n",
              "    </tr>\n",
              "    <tr>\n",
              "      <th>...</th>\n",
              "      <td>...</td>\n",
              "      <td>...</td>\n",
              "      <td>...</td>\n",
              "      <td>...</td>\n",
              "      <td>...</td>\n",
              "      <td>...</td>\n",
              "      <td>...</td>\n",
              "      <td>...</td>\n",
              "      <td>...</td>\n",
              "      <td>...</td>\n",
              "    </tr>\n",
              "    <tr>\n",
              "      <th>1022</th>\n",
              "      <td>2021-06-19</td>\n",
              "      <td>0</td>\n",
              "      <td>0</td>\n",
              "      <td>0</td>\n",
              "      <td>0</td>\n",
              "      <td>0</td>\n",
              "      <td>0</td>\n",
              "      <td>2021</td>\n",
              "      <td>6</td>\n",
              "      <td>19</td>\n",
              "    </tr>\n",
              "    <tr>\n",
              "      <th>1023</th>\n",
              "      <td>2021-06-20</td>\n",
              "      <td>0</td>\n",
              "      <td>0</td>\n",
              "      <td>0</td>\n",
              "      <td>0</td>\n",
              "      <td>0</td>\n",
              "      <td>0</td>\n",
              "      <td>2021</td>\n",
              "      <td>6</td>\n",
              "      <td>20</td>\n",
              "    </tr>\n",
              "    <tr>\n",
              "      <th>1024</th>\n",
              "      <td>2021-06-21</td>\n",
              "      <td>0</td>\n",
              "      <td>0</td>\n",
              "      <td>0</td>\n",
              "      <td>0</td>\n",
              "      <td>0</td>\n",
              "      <td>0</td>\n",
              "      <td>2021</td>\n",
              "      <td>6</td>\n",
              "      <td>21</td>\n",
              "    </tr>\n",
              "    <tr>\n",
              "      <th>1025</th>\n",
              "      <td>2021-06-22</td>\n",
              "      <td>0</td>\n",
              "      <td>0</td>\n",
              "      <td>0</td>\n",
              "      <td>0</td>\n",
              "      <td>0</td>\n",
              "      <td>0</td>\n",
              "      <td>2021</td>\n",
              "      <td>6</td>\n",
              "      <td>22</td>\n",
              "    </tr>\n",
              "    <tr>\n",
              "      <th>1026</th>\n",
              "      <td>2021-06-23</td>\n",
              "      <td>0</td>\n",
              "      <td>0</td>\n",
              "      <td>0</td>\n",
              "      <td>0</td>\n",
              "      <td>0</td>\n",
              "      <td>0</td>\n",
              "      <td>2021</td>\n",
              "      <td>6</td>\n",
              "      <td>23</td>\n",
              "    </tr>\n",
              "  </tbody>\n",
              "</table>\n",
              "<p>1027 rows × 10 columns</p>\n",
              "</div>"
            ],
            "text/plain": [
              "           date  pm25  pm10  o3  no2  so2  co  year  month  day\n",
              "0    2018-09-01     0     0   0    0    0   0  2018      9    1\n",
              "1    2018-09-02     0     0   0    0    0   0  2018      9    2\n",
              "2    2018-09-03     0     0   0    0    0   0  2018      9    3\n",
              "3    2018-09-04     0     0   0    0    0   0  2018      9    4\n",
              "4    2018-09-05     0     0   0    0    0   0  2018      9    5\n",
              "...         ...   ...   ...  ..  ...  ...  ..   ...    ...  ...\n",
              "1022 2021-06-19     0     0   0    0    0   0  2021      6   19\n",
              "1023 2021-06-20     0     0   0    0    0   0  2021      6   20\n",
              "1024 2021-06-21     0     0   0    0    0   0  2021      6   21\n",
              "1025 2021-06-22     0     0   0    0    0   0  2021      6   22\n",
              "1026 2021-06-23     0     0   0    0    0   0  2021      6   23\n",
              "\n",
              "[1027 rows x 10 columns]"
            ]
          },
          "metadata": {
            "tags": []
          },
          "execution_count": 392
        }
      ]
    },
    {
      "cell_type": "code",
      "metadata": {
        "id": "DuPb9_GbmHGc"
      },
      "source": [
        "org_time_lst[2] "
      ],
      "execution_count": null,
      "outputs": []
    },
    {
      "cell_type": "code",
      "metadata": {
        "colab": {
          "base_uri": "https://localhost:8080/"
        },
        "id": "BLthZgGGsQUR",
        "outputId": "fe9f75b1-f203-4954-fc12-84a56f863a58"
      },
      "source": [
        "a=data[2][' pm25'][8]\n",
        "type(a)"
      ],
      "execution_count": 180,
      "outputs": [
        {
          "output_type": "execute_result",
          "data": {
            "text/plain": [
              "str"
            ]
          },
          "metadata": {
            "tags": []
          },
          "execution_count": 180
        }
      ]
    },
    {
      "cell_type": "code",
      "metadata": {
        "colab": {
          "base_uri": "https://localhost:8080/"
        },
        "id": "i8KKDvjKxu34",
        "outputId": "a3c9046c-b12a-4818-8fd3-f5937f415242"
      },
      "source": [
        "col_list=list(data[2].columns)\n",
        "col_list"
      ],
      "execution_count": 119,
      "outputs": [
        {
          "output_type": "execute_result",
          "data": {
            "text/plain": [
              "['date',\n",
              " ' pm25',\n",
              " ' pm10',\n",
              " ' o3',\n",
              " ' no2',\n",
              " ' so2',\n",
              " ' co',\n",
              " 'year',\n",
              " 'Month',\n",
              " 'day']"
            ]
          },
          "metadata": {
            "tags": []
          },
          "execution_count": 119
        }
      ]
    },
    {
      "cell_type": "code",
      "metadata": {
        "colab": {
          "base_uri": "https://localhost:8080/"
        },
        "id": "_lrXMXywLL1d",
        "outputId": "76842696-80d0-46fd-8ef7-81bf6e86e860"
      },
      "source": [
        "start='2018-9-1'\n",
        "for num in range(0,13):\n",
        "  if start in org_time_lst[num]:\n",
        "    print(num)"
      ],
      "execution_count": 394,
      "outputs": [
        {
          "output_type": "stream",
          "text": [
            "1\n",
            "2\n",
            "3\n",
            "4\n",
            "5\n",
            "6\n",
            "7\n",
            "8\n",
            "9\n",
            "10\n",
            "11\n",
            "12\n"
          ],
          "name": "stdout"
        }
      ]
    },
    {
      "cell_type": "code",
      "metadata": {
        "id": "K1lA8YmA2eTN"
      },
      "source": [
        "pm25_col=np.zeros((deltat))\n",
        "pm10_col=np.zeros((deltat))\n",
        "co_col=np.zeros((deltat))\n",
        "so2_col=np.zeros((deltat))\n",
        "no2_col=np.zeros((deltat))\n",
        "o3_col=np.zeros((deltat))\n",
        "\n",
        "itr_pm25=np.zeros((deltat))\n",
        "itr_pm10=np.zeros((deltat))\n",
        "itr_co=np.zeros((deltat))\n",
        "itr_so2=np.zeros((deltat))\n",
        "itr_no2=np.zeros((deltat))\n",
        "itr_o3=np.zeros((deltat))\n",
        "\n",
        "for num in range(0,13):\n",
        "\n",
        " for i in range(deltat):\n",
        "\n",
        "  if i<len(org_time_lst[num]):\n",
        "   if  date_list[i] in org_time_lst[num]:\n",
        "    \n",
        "    # print(num,org_time_lst[num][i],i)\n",
        "    pm25=int(data[num][' pm25'][i])\n",
        "    pm25_col[i]+=(pm25)\n",
        "    ## if \n",
        "    if pm25!=0:\n",
        "      itr_pm25[i]+=1\n",
        "    pm10=int(data[num][' pm10'][i])\n",
        "    pm10_col[i]+=(pm10)\n",
        "    if pm10!=0:\n",
        "      itr_pm10[i]+=1\n",
        "    co=int(data[num][' co'][i])\n",
        "    co_col[i]+=(co)\n",
        "    if co!=0:\n",
        "      itr_co[i]+=1    \n",
        "    so2=int(data[num][' so2'][i])\n",
        "    so2_col[i]+=(so2)\n",
        "    if so2!=0:\n",
        "      itr_so2[i]+=1\n",
        "    no2=int(data[num][' no2'][i])\n",
        "    no2_col[i]+=(no2)\n",
        "    if no2!=0:\n",
        "      itr_no2[i]+=1    \n",
        "    o3=int(data[num][' o3'][i])\n",
        "    o3_col[i]+=(o3)\n",
        "    if o3!=0:\n",
        "      itr_o3[i]+=1    "
      ],
      "execution_count": 395,
      "outputs": []
    },
    {
      "cell_type": "code",
      "metadata": {
        "id": "l_q_RWSh7o2e"
      },
      "source": [
        "itr=[itr_pm25,itr_pm10,itr_co,itr_so2,itr_no2,itr_o3]\n",
        "for i in range(len(itr)):\n",
        "  for j in range(deltat):\n",
        "   if itr[i][j]==0:\n",
        "    itr[i][j]=1"
      ],
      "execution_count": 396,
      "outputs": []
    },
    {
      "cell_type": "code",
      "metadata": {
        "id": "sijeUQru37GY"
      },
      "source": [
        "co=co_col/itr_co\n",
        "df['co']=co\n",
        "no2=no2_col/itr_no2\n",
        "df['no2']=no2\n",
        "o3=o3_col/itr_o3\n",
        "df['o3']=o3\n",
        "pm10=pm10_col/itr_pm10\n",
        "df['pm10']=pm10\n",
        "pm25=pm25_col/itr_pm25\n",
        "df['pm25']=pm25\n",
        "so2=so2_col/itr_so2\n",
        "df['so2']=so2"
      ],
      "execution_count": 397,
      "outputs": []
    },
    {
      "cell_type": "code",
      "metadata": {
        "id": "8YZZF_lI-Sct"
      },
      "source": [
        "# aqi_s=[co,no2,o3,pm10,pm25,so2]\n",
        "# AQI=np.zeros((deltat))\n",
        "# for i in range(deltat):\n",
        "#   AQI[i]=max(co[i],no2[i],o3[i],pm10[i],pm25[i],so2[i])"
      ],
      "execution_count": 145,
      "outputs": []
    },
    {
      "cell_type": "code",
      "metadata": {
        "id": "U3Oft6lWAhoz"
      },
      "source": [
        "# df['AQI']=AQI"
      ],
      "execution_count": 85,
      "outputs": []
    },
    {
      "cell_type": "code",
      "metadata": {
        "colab": {
          "base_uri": "https://localhost:8080/",
          "height": 415
        },
        "id": "BatEG6iK5gF-",
        "outputId": "ee0ddaf4-9edb-4baf-e40b-39cbaa10a096"
      },
      "source": [
        "X_data=df.drop(columns=['date'],inplace=True)\n",
        "df"
      ],
      "execution_count": 398,
      "outputs": [
        {
          "output_type": "execute_result",
          "data": {
            "text/html": [
              "<div>\n",
              "<style scoped>\n",
              "    .dataframe tbody tr th:only-of-type {\n",
              "        vertical-align: middle;\n",
              "    }\n",
              "\n",
              "    .dataframe tbody tr th {\n",
              "        vertical-align: top;\n",
              "    }\n",
              "\n",
              "    .dataframe thead th {\n",
              "        text-align: right;\n",
              "    }\n",
              "</style>\n",
              "<table border=\"1\" class=\"dataframe\">\n",
              "  <thead>\n",
              "    <tr style=\"text-align: right;\">\n",
              "      <th></th>\n",
              "      <th>pm25</th>\n",
              "      <th>pm10</th>\n",
              "      <th>o3</th>\n",
              "      <th>no2</th>\n",
              "      <th>so2</th>\n",
              "      <th>co</th>\n",
              "      <th>year</th>\n",
              "      <th>month</th>\n",
              "      <th>day</th>\n",
              "    </tr>\n",
              "  </thead>\n",
              "  <tbody>\n",
              "    <tr>\n",
              "      <th>0</th>\n",
              "      <td>60.916667</td>\n",
              "      <td>46.600000</td>\n",
              "      <td>53.857143</td>\n",
              "      <td>48.250000</td>\n",
              "      <td>12.000000</td>\n",
              "      <td>24.181818</td>\n",
              "      <td>2018</td>\n",
              "      <td>9</td>\n",
              "      <td>1</td>\n",
              "    </tr>\n",
              "    <tr>\n",
              "      <th>1</th>\n",
              "      <td>72.000000</td>\n",
              "      <td>59.400000</td>\n",
              "      <td>53.857143</td>\n",
              "      <td>46.250000</td>\n",
              "      <td>15.222222</td>\n",
              "      <td>24.909091</td>\n",
              "      <td>2018</td>\n",
              "      <td>9</td>\n",
              "      <td>2</td>\n",
              "    </tr>\n",
              "    <tr>\n",
              "      <th>2</th>\n",
              "      <td>68.000000</td>\n",
              "      <td>52.800000</td>\n",
              "      <td>53.857143</td>\n",
              "      <td>36.166667</td>\n",
              "      <td>12.444444</td>\n",
              "      <td>19.727273</td>\n",
              "      <td>2018</td>\n",
              "      <td>9</td>\n",
              "      <td>3</td>\n",
              "    </tr>\n",
              "    <tr>\n",
              "      <th>3</th>\n",
              "      <td>77.333333</td>\n",
              "      <td>57.200000</td>\n",
              "      <td>53.857143</td>\n",
              "      <td>41.583333</td>\n",
              "      <td>13.666667</td>\n",
              "      <td>23.818182</td>\n",
              "      <td>2018</td>\n",
              "      <td>9</td>\n",
              "      <td>4</td>\n",
              "    </tr>\n",
              "    <tr>\n",
              "      <th>4</th>\n",
              "      <td>70.833333</td>\n",
              "      <td>50.200000</td>\n",
              "      <td>53.857143</td>\n",
              "      <td>47.500000</td>\n",
              "      <td>13.444444</td>\n",
              "      <td>23.909091</td>\n",
              "      <td>2018</td>\n",
              "      <td>9</td>\n",
              "      <td>5</td>\n",
              "    </tr>\n",
              "    <tr>\n",
              "      <th>...</th>\n",
              "      <td>...</td>\n",
              "      <td>...</td>\n",
              "      <td>...</td>\n",
              "      <td>...</td>\n",
              "      <td>...</td>\n",
              "      <td>...</td>\n",
              "      <td>...</td>\n",
              "      <td>...</td>\n",
              "      <td>...</td>\n",
              "    </tr>\n",
              "    <tr>\n",
              "      <th>1022</th>\n",
              "      <td>79.250000</td>\n",
              "      <td>64.333333</td>\n",
              "      <td>31.000000</td>\n",
              "      <td>36.500000</td>\n",
              "      <td>9.000000</td>\n",
              "      <td>20.250000</td>\n",
              "      <td>2021</td>\n",
              "      <td>6</td>\n",
              "      <td>19</td>\n",
              "    </tr>\n",
              "    <tr>\n",
              "      <th>1023</th>\n",
              "      <td>76.750000</td>\n",
              "      <td>77.000000</td>\n",
              "      <td>31.500000</td>\n",
              "      <td>44.000000</td>\n",
              "      <td>11.750000</td>\n",
              "      <td>23.250000</td>\n",
              "      <td>2021</td>\n",
              "      <td>6</td>\n",
              "      <td>20</td>\n",
              "    </tr>\n",
              "    <tr>\n",
              "      <th>1024</th>\n",
              "      <td>110.000000</td>\n",
              "      <td>83.666667</td>\n",
              "      <td>29.000000</td>\n",
              "      <td>54.500000</td>\n",
              "      <td>18.250000</td>\n",
              "      <td>27.250000</td>\n",
              "      <td>2021</td>\n",
              "      <td>6</td>\n",
              "      <td>21</td>\n",
              "    </tr>\n",
              "    <tr>\n",
              "      <th>1025</th>\n",
              "      <td>108.000000</td>\n",
              "      <td>82.000000</td>\n",
              "      <td>27.500000</td>\n",
              "      <td>47.000000</td>\n",
              "      <td>13.000000</td>\n",
              "      <td>23.000000</td>\n",
              "      <td>2021</td>\n",
              "      <td>6</td>\n",
              "      <td>22</td>\n",
              "    </tr>\n",
              "    <tr>\n",
              "      <th>1026</th>\n",
              "      <td>104.000000</td>\n",
              "      <td>78.000000</td>\n",
              "      <td>28.000000</td>\n",
              "      <td>56.500000</td>\n",
              "      <td>12.250000</td>\n",
              "      <td>20.000000</td>\n",
              "      <td>2021</td>\n",
              "      <td>6</td>\n",
              "      <td>23</td>\n",
              "    </tr>\n",
              "  </tbody>\n",
              "</table>\n",
              "<p>1027 rows × 9 columns</p>\n",
              "</div>"
            ],
            "text/plain": [
              "            pm25       pm10         o3        no2  ...         co  year  month  day\n",
              "0      60.916667  46.600000  53.857143  48.250000  ...  24.181818  2018      9    1\n",
              "1      72.000000  59.400000  53.857143  46.250000  ...  24.909091  2018      9    2\n",
              "2      68.000000  52.800000  53.857143  36.166667  ...  19.727273  2018      9    3\n",
              "3      77.333333  57.200000  53.857143  41.583333  ...  23.818182  2018      9    4\n",
              "4      70.833333  50.200000  53.857143  47.500000  ...  23.909091  2018      9    5\n",
              "...          ...        ...        ...        ...  ...        ...   ...    ...  ...\n",
              "1022   79.250000  64.333333  31.000000  36.500000  ...  20.250000  2021      6   19\n",
              "1023   76.750000  77.000000  31.500000  44.000000  ...  23.250000  2021      6   20\n",
              "1024  110.000000  83.666667  29.000000  54.500000  ...  27.250000  2021      6   21\n",
              "1025  108.000000  82.000000  27.500000  47.000000  ...  23.000000  2021      6   22\n",
              "1026  104.000000  78.000000  28.000000  56.500000  ...  20.000000  2021      6   23\n",
              "\n",
              "[1027 rows x 9 columns]"
            ]
          },
          "metadata": {
            "tags": []
          },
          "execution_count": 398
        }
      ]
    },
    {
      "cell_type": "code",
      "metadata": {
        "id": "2Gk2mjskAthW"
      },
      "source": [
        "df=df.replace(0,np.nan)\n",
        "df=df.fillna(df.mean())"
      ],
      "execution_count": 399,
      "outputs": []
    },
    {
      "cell_type": "code",
      "metadata": {
        "id": "_FwoiQ2-mrxx"
      },
      "source": [
        "df.to_csv('final_X_dat.csv')"
      ],
      "execution_count": 400,
      "outputs": []
    },
    {
      "cell_type": "code",
      "metadata": {
        "id": "dibeL1fOFGsg"
      },
      "source": [
        "df['AQI'] = df[['pm25', 'pm10', 'o3', 'no2', 'so2', 'co']].max(axis=1)"
      ],
      "execution_count": 401,
      "outputs": []
    },
    {
      "cell_type": "code",
      "metadata": {
        "id": "RXvECqX4m_Yy"
      },
      "source": [
        "aqi_list=df['AQI']\n",
        "Y_data=aqi_list"
      ],
      "execution_count": 402,
      "outputs": []
    },
    {
      "cell_type": "code",
      "metadata": {
        "colab": {
          "base_uri": "https://localhost:8080/"
        },
        "id": "4YsEgFQ4nFzx",
        "outputId": "8ea25a56-c38c-4fb4-db63-005069c21f1e"
      },
      "source": [
        "aqi_list"
      ],
      "execution_count": 403,
      "outputs": [
        {
          "output_type": "execute_result",
          "data": {
            "text/plain": [
              "0        60.916667\n",
              "1        72.000000\n",
              "2        68.000000\n",
              "3        77.333333\n",
              "4        70.833333\n",
              "           ...    \n",
              "1022     79.250000\n",
              "1023     77.000000\n",
              "1024    110.000000\n",
              "1025    108.000000\n",
              "1026    104.000000\n",
              "Name: AQI, Length: 1027, dtype: float64"
            ]
          },
          "metadata": {
            "tags": []
          },
          "execution_count": 403
        }
      ]
    },
    {
      "cell_type": "code",
      "metadata": {
        "id": "TlgJTHm4nLhz"
      },
      "source": [
        "aqi_class=np.zeros((len(aqi_list)))\n",
        "for i in range(len(aqi_list)):\n",
        "  if aqi_list[i]<=50:\n",
        "    aqi_class[i]=0\n",
        "  if aqi_list[i]>50 and aqi_list[i]<=100:\n",
        "    aqi_class[i]=1\n",
        "  if aqi_list[i]>100 and aqi_list[i]<=150:\n",
        "    aqi_class[i]=2  \n",
        "  if aqi_list[i]>150 and aqi_list[i]<=200:\n",
        "    aqi_class[i]=3\n",
        "  if aqi_list[i]>200 and aqi_list[i]<=300:\n",
        "    aqi_class[i]=4\n",
        "  if aqi_list[i]>300 and aqi_list[i]<=500:\n",
        "    aqi_class[i]=5\n",
        "                      "
      ],
      "execution_count": 404,
      "outputs": []
    },
    {
      "cell_type": "code",
      "metadata": {
        "colab": {
          "base_uri": "https://localhost:8080/",
          "height": 415
        },
        "id": "urZq_-g2FKOE",
        "outputId": "98599bf9-b3aa-42c9-aa90-88f62892bbd5"
      },
      "source": [
        "df['aqi_class']=aqi_class\n",
        "Y_data_class=aqi_class\n",
        "df"
      ],
      "execution_count": 405,
      "outputs": [
        {
          "output_type": "execute_result",
          "data": {
            "text/html": [
              "<div>\n",
              "<style scoped>\n",
              "    .dataframe tbody tr th:only-of-type {\n",
              "        vertical-align: middle;\n",
              "    }\n",
              "\n",
              "    .dataframe tbody tr th {\n",
              "        vertical-align: top;\n",
              "    }\n",
              "\n",
              "    .dataframe thead th {\n",
              "        text-align: right;\n",
              "    }\n",
              "</style>\n",
              "<table border=\"1\" class=\"dataframe\">\n",
              "  <thead>\n",
              "    <tr style=\"text-align: right;\">\n",
              "      <th></th>\n",
              "      <th>pm25</th>\n",
              "      <th>pm10</th>\n",
              "      <th>o3</th>\n",
              "      <th>no2</th>\n",
              "      <th>so2</th>\n",
              "      <th>co</th>\n",
              "      <th>year</th>\n",
              "      <th>month</th>\n",
              "      <th>day</th>\n",
              "      <th>AQI</th>\n",
              "      <th>aqi_class</th>\n",
              "    </tr>\n",
              "  </thead>\n",
              "  <tbody>\n",
              "    <tr>\n",
              "      <th>0</th>\n",
              "      <td>60.916667</td>\n",
              "      <td>46.600000</td>\n",
              "      <td>53.857143</td>\n",
              "      <td>48.250000</td>\n",
              "      <td>12.000000</td>\n",
              "      <td>24.181818</td>\n",
              "      <td>2018</td>\n",
              "      <td>9</td>\n",
              "      <td>1</td>\n",
              "      <td>60.916667</td>\n",
              "      <td>1.0</td>\n",
              "    </tr>\n",
              "    <tr>\n",
              "      <th>1</th>\n",
              "      <td>72.000000</td>\n",
              "      <td>59.400000</td>\n",
              "      <td>53.857143</td>\n",
              "      <td>46.250000</td>\n",
              "      <td>15.222222</td>\n",
              "      <td>24.909091</td>\n",
              "      <td>2018</td>\n",
              "      <td>9</td>\n",
              "      <td>2</td>\n",
              "      <td>72.000000</td>\n",
              "      <td>1.0</td>\n",
              "    </tr>\n",
              "    <tr>\n",
              "      <th>2</th>\n",
              "      <td>68.000000</td>\n",
              "      <td>52.800000</td>\n",
              "      <td>53.857143</td>\n",
              "      <td>36.166667</td>\n",
              "      <td>12.444444</td>\n",
              "      <td>19.727273</td>\n",
              "      <td>2018</td>\n",
              "      <td>9</td>\n",
              "      <td>3</td>\n",
              "      <td>68.000000</td>\n",
              "      <td>1.0</td>\n",
              "    </tr>\n",
              "    <tr>\n",
              "      <th>3</th>\n",
              "      <td>77.333333</td>\n",
              "      <td>57.200000</td>\n",
              "      <td>53.857143</td>\n",
              "      <td>41.583333</td>\n",
              "      <td>13.666667</td>\n",
              "      <td>23.818182</td>\n",
              "      <td>2018</td>\n",
              "      <td>9</td>\n",
              "      <td>4</td>\n",
              "      <td>77.333333</td>\n",
              "      <td>1.0</td>\n",
              "    </tr>\n",
              "    <tr>\n",
              "      <th>4</th>\n",
              "      <td>70.833333</td>\n",
              "      <td>50.200000</td>\n",
              "      <td>53.857143</td>\n",
              "      <td>47.500000</td>\n",
              "      <td>13.444444</td>\n",
              "      <td>23.909091</td>\n",
              "      <td>2018</td>\n",
              "      <td>9</td>\n",
              "      <td>5</td>\n",
              "      <td>70.833333</td>\n",
              "      <td>1.0</td>\n",
              "    </tr>\n",
              "    <tr>\n",
              "      <th>...</th>\n",
              "      <td>...</td>\n",
              "      <td>...</td>\n",
              "      <td>...</td>\n",
              "      <td>...</td>\n",
              "      <td>...</td>\n",
              "      <td>...</td>\n",
              "      <td>...</td>\n",
              "      <td>...</td>\n",
              "      <td>...</td>\n",
              "      <td>...</td>\n",
              "      <td>...</td>\n",
              "    </tr>\n",
              "    <tr>\n",
              "      <th>1022</th>\n",
              "      <td>79.250000</td>\n",
              "      <td>64.333333</td>\n",
              "      <td>31.000000</td>\n",
              "      <td>36.500000</td>\n",
              "      <td>9.000000</td>\n",
              "      <td>20.250000</td>\n",
              "      <td>2021</td>\n",
              "      <td>6</td>\n",
              "      <td>19</td>\n",
              "      <td>79.250000</td>\n",
              "      <td>1.0</td>\n",
              "    </tr>\n",
              "    <tr>\n",
              "      <th>1023</th>\n",
              "      <td>76.750000</td>\n",
              "      <td>77.000000</td>\n",
              "      <td>31.500000</td>\n",
              "      <td>44.000000</td>\n",
              "      <td>11.750000</td>\n",
              "      <td>23.250000</td>\n",
              "      <td>2021</td>\n",
              "      <td>6</td>\n",
              "      <td>20</td>\n",
              "      <td>77.000000</td>\n",
              "      <td>1.0</td>\n",
              "    </tr>\n",
              "    <tr>\n",
              "      <th>1024</th>\n",
              "      <td>110.000000</td>\n",
              "      <td>83.666667</td>\n",
              "      <td>29.000000</td>\n",
              "      <td>54.500000</td>\n",
              "      <td>18.250000</td>\n",
              "      <td>27.250000</td>\n",
              "      <td>2021</td>\n",
              "      <td>6</td>\n",
              "      <td>21</td>\n",
              "      <td>110.000000</td>\n",
              "      <td>2.0</td>\n",
              "    </tr>\n",
              "    <tr>\n",
              "      <th>1025</th>\n",
              "      <td>108.000000</td>\n",
              "      <td>82.000000</td>\n",
              "      <td>27.500000</td>\n",
              "      <td>47.000000</td>\n",
              "      <td>13.000000</td>\n",
              "      <td>23.000000</td>\n",
              "      <td>2021</td>\n",
              "      <td>6</td>\n",
              "      <td>22</td>\n",
              "      <td>108.000000</td>\n",
              "      <td>2.0</td>\n",
              "    </tr>\n",
              "    <tr>\n",
              "      <th>1026</th>\n",
              "      <td>104.000000</td>\n",
              "      <td>78.000000</td>\n",
              "      <td>28.000000</td>\n",
              "      <td>56.500000</td>\n",
              "      <td>12.250000</td>\n",
              "      <td>20.000000</td>\n",
              "      <td>2021</td>\n",
              "      <td>6</td>\n",
              "      <td>23</td>\n",
              "      <td>104.000000</td>\n",
              "      <td>2.0</td>\n",
              "    </tr>\n",
              "  </tbody>\n",
              "</table>\n",
              "<p>1027 rows × 11 columns</p>\n",
              "</div>"
            ],
            "text/plain": [
              "            pm25       pm10         o3  ...  day         AQI  aqi_class\n",
              "0      60.916667  46.600000  53.857143  ...    1   60.916667        1.0\n",
              "1      72.000000  59.400000  53.857143  ...    2   72.000000        1.0\n",
              "2      68.000000  52.800000  53.857143  ...    3   68.000000        1.0\n",
              "3      77.333333  57.200000  53.857143  ...    4   77.333333        1.0\n",
              "4      70.833333  50.200000  53.857143  ...    5   70.833333        1.0\n",
              "...          ...        ...        ...  ...  ...         ...        ...\n",
              "1022   79.250000  64.333333  31.000000  ...   19   79.250000        1.0\n",
              "1023   76.750000  77.000000  31.500000  ...   20   77.000000        1.0\n",
              "1024  110.000000  83.666667  29.000000  ...   21  110.000000        2.0\n",
              "1025  108.000000  82.000000  27.500000  ...   22  108.000000        2.0\n",
              "1026  104.000000  78.000000  28.000000  ...   23  104.000000        2.0\n",
              "\n",
              "[1027 rows x 11 columns]"
            ]
          },
          "metadata": {
            "tags": []
          },
          "execution_count": 405
        }
      ]
    },
    {
      "cell_type": "code",
      "metadata": {
        "id": "RbGVL50xHu0a"
      },
      "source": [
        "df.to_csv('final_dat_set_classification.csv')"
      ],
      "execution_count": 406,
      "outputs": []
    },
    {
      "cell_type": "markdown",
      "metadata": {
        "id": "_DM9r5ppu3sH"
      },
      "source": [
        "# random forest classification"
      ]
    },
    {
      "cell_type": "code",
      "metadata": {
        "colab": {
          "base_uri": "https://localhost:8080/"
        },
        "id": "QfO1pC2dMs2z",
        "outputId": "784df415-7373-485d-ce96-08e48cb610e7"
      },
      "source": [
        "from sklearn.ensemble import RandomForestClassifier\n",
        "from sklearn.datasets import make_classification\n",
        "y=Y_data_class\n",
        "X=X_data\n",
        "X, y = make_classification(n_samples=1027, n_features=9,\n",
        "                          n_informative=2, n_redundant=0,\n",
        "                           random_state=0, shuffle=False)\n",
        "clf = RandomForestClassifier(max_depth=2, random_state=0)\n",
        "clf.fit(X, y)"
      ],
      "execution_count": 407,
      "outputs": [
        {
          "output_type": "execute_result",
          "data": {
            "text/plain": [
              "RandomForestClassifier(bootstrap=True, ccp_alpha=0.0, class_weight=None,\n",
              "                       criterion='gini', max_depth=2, max_features='auto',\n",
              "                       max_leaf_nodes=None, max_samples=None,\n",
              "                       min_impurity_decrease=0.0, min_impurity_split=None,\n",
              "                       min_samples_leaf=1, min_samples_split=2,\n",
              "                       min_weight_fraction_leaf=0.0, n_estimators=100,\n",
              "                       n_jobs=None, oob_score=False, random_state=0, verbose=0,\n",
              "                       warm_start=False)"
            ]
          },
          "metadata": {
            "tags": []
          },
          "execution_count": 407
        }
      ]
    },
    {
      "cell_type": "code",
      "metadata": {
        "colab": {
          "base_uri": "https://localhost:8080/"
        },
        "id": "gEnv1vzrso-P",
        "outputId": "cc88aa13-f8bd-4cee-c9cc-e4d82b41bee8"
      },
      "source": [
        "clf.predict(X)"
      ],
      "execution_count": 408,
      "outputs": [
        {
          "output_type": "execute_result",
          "data": {
            "text/plain": [
              "array([0, 0, 1, ..., 1, 1, 1])"
            ]
          },
          "metadata": {
            "tags": []
          },
          "execution_count": 408
        }
      ]
    },
    {
      "cell_type": "code",
      "metadata": {
        "colab": {
          "base_uri": "https://localhost:8080/"
        },
        "id": "t70-9LDQsfEw",
        "outputId": "f0daf5e3-2658-482e-abd2-a05a5b2da978"
      },
      "source": [
        "clf.predict_proba(X)"
      ],
      "execution_count": 409,
      "outputs": [
        {
          "output_type": "execute_result",
          "data": {
            "text/plain": [
              "array([[0.78374591, 0.21625409],\n",
              "       [0.78984737, 0.21015263],\n",
              "       [0.28661711, 0.71338289],\n",
              "       ...,\n",
              "       [0.27139694, 0.72860306],\n",
              "       [0.25638203, 0.74361797],\n",
              "       [0.27908841, 0.72091159]])"
            ]
          },
          "metadata": {
            "tags": []
          },
          "execution_count": 409
        }
      ]
    },
    {
      "cell_type": "code",
      "metadata": {
        "colab": {
          "base_uri": "https://localhost:8080/"
        },
        "id": "BHIJWyb7sxBY",
        "outputId": "b3fa504b-a368-4a33-c413-9a6ccaee7cd5"
      },
      "source": [
        "clf.score(X,y)"
      ],
      "execution_count": 410,
      "outputs": [
        {
          "output_type": "execute_result",
          "data": {
            "text/plain": [
              "0.9279454722492697"
            ]
          },
          "metadata": {
            "tags": []
          },
          "execution_count": 410
        }
      ]
    },
    {
      "cell_type": "code",
      "metadata": {
        "id": "x8d9V9x8WtSg"
      },
      "source": [
        "from sklearn.model_selection import train_test_split\n",
        "X_train, X_test, Y_train, Y_test = train_test_split(X, y,shuffle=False)"
      ],
      "execution_count": 411,
      "outputs": []
    },
    {
      "cell_type": "markdown",
      "metadata": {
        "id": "iQFA51tTMvIA"
      },
      "source": [
        "# neural network"
      ]
    },
    {
      "cell_type": "code",
      "metadata": {
        "id": "5JZ1dcMAv4sp"
      },
      "source": [
        "from tensorflow import keras as ks\n",
        "from keras.models import Sequential\n",
        "from keras.layers import Dense\n",
        "from keras.wrappers.scikit_learn import KerasRegressor\n",
        "from sklearn.model_selection import cross_val_score\n",
        "from sklearn.model_selection import KFold\n",
        "from sklearn.preprocessing import StandardScaler\n",
        "from sklearn.pipeline import Pipeline"
      ],
      "execution_count": 412,
      "outputs": []
    },
    {
      "cell_type": "code",
      "metadata": {
        "id": "INGh3sv_Wx-e"
      },
      "source": [
        "from sklearn.model_selection import train_test_split\n",
        "from sklearn.metrics import mean_absolute_error, mean_squared_error\n",
        "X_train, X_test, Y_train, Y_test = train_test_split(X, y,shuffle=False)"
      ],
      "execution_count": 422,
      "outputs": []
    },
    {
      "cell_type": "code",
      "metadata": {
        "colab": {
          "base_uri": "https://localhost:8080/"
        },
        "id": "v_HrHxsbwMwN",
        "outputId": "cc632410-f0fb-4d87-b950-8f4df6dc149a"
      },
      "source": [
        "model = Sequential()\n",
        "model.add(Dense(8, input_dim=9, kernel_initializer='normal', activation='relu'))\n",
        "model.add(Dense(6, activation='relu'))\n",
        "model.add(Dense(1, activation='relu'))\n",
        "model.summary()"
      ],
      "execution_count": 431,
      "outputs": [
        {
          "output_type": "stream",
          "text": [
            "Model: \"sequential_7\"\n",
            "_________________________________________________________________\n",
            "Layer (type)                 Output Shape              Param #   \n",
            "=================================================================\n",
            "dense_21 (Dense)             (None, 8)                 80        \n",
            "_________________________________________________________________\n",
            "dense_22 (Dense)             (None, 6)                 54        \n",
            "_________________________________________________________________\n",
            "dense_23 (Dense)             (None, 1)                 7         \n",
            "=================================================================\n",
            "Total params: 141\n",
            "Trainable params: 141\n",
            "Non-trainable params: 0\n",
            "_________________________________________________________________\n"
          ],
          "name": "stdout"
        }
      ]
    },
    {
      "cell_type": "code",
      "metadata": {
        "id": "uEOXkHfCwUoz"
      },
      "source": [
        "model.compile(loss='mse', optimizer='adam', metrics=['accuracy'])"
      ],
      "execution_count": 432,
      "outputs": []
    },
    {
      "cell_type": "code",
      "metadata": {
        "colab": {
          "base_uri": "https://localhost:8080/"
        },
        "id": "41pl-xKkwYi8",
        "outputId": "8a21033f-08f0-46d5-e15f-a35c15071e95"
      },
      "source": [
        "history = model.fit(X_train, Y_train, epochs=250, batch_size=100,  verbose=1, validation_split=0.2)"
      ],
      "execution_count": 433,
      "outputs": [
        {
          "output_type": "stream",
          "text": [
            "Epoch 1/250\n",
            "7/7 [==============================] - 1s 47ms/step - loss: 0.4179 - accuracy: 0.5688 - val_loss: 0.0132 - val_accuracy: 0.9870\n",
            "Epoch 2/250\n",
            "7/7 [==============================] - 0s 5ms/step - loss: 0.4069 - accuracy: 0.5672 - val_loss: 0.0138 - val_accuracy: 0.9870\n",
            "Epoch 3/250\n",
            "7/7 [==============================] - 0s 6ms/step - loss: 0.3949 - accuracy: 0.5659 - val_loss: 0.0149 - val_accuracy: 0.9870\n",
            "Epoch 4/250\n",
            "7/7 [==============================] - 0s 6ms/step - loss: 0.3372 - accuracy: 0.6175 - val_loss: 0.0165 - val_accuracy: 0.9870\n",
            "Epoch 5/250\n",
            "7/7 [==============================] - 0s 7ms/step - loss: 0.3597 - accuracy: 0.5763 - val_loss: 0.0188 - val_accuracy: 0.9870\n",
            "Epoch 6/250\n",
            "7/7 [==============================] - 0s 6ms/step - loss: 0.3276 - accuracy: 0.5965 - val_loss: 0.0219 - val_accuracy: 0.9870\n",
            "Epoch 7/250\n",
            "7/7 [==============================] - 0s 6ms/step - loss: 0.3340 - accuracy: 0.5702 - val_loss: 0.0258 - val_accuracy: 0.9870\n",
            "Epoch 8/250\n",
            "7/7 [==============================] - 0s 6ms/step - loss: 0.3171 - accuracy: 0.5704 - val_loss: 0.0303 - val_accuracy: 0.9870\n",
            "Epoch 9/250\n",
            "7/7 [==============================] - 0s 7ms/step - loss: 0.2922 - accuracy: 0.5825 - val_loss: 0.0352 - val_accuracy: 0.9870\n",
            "Epoch 10/250\n",
            "7/7 [==============================] - 0s 6ms/step - loss: 0.2744 - accuracy: 0.5840 - val_loss: 0.0406 - val_accuracy: 0.9870\n",
            "Epoch 11/250\n",
            "7/7 [==============================] - 0s 6ms/step - loss: 0.2585 - accuracy: 0.5842 - val_loss: 0.0461 - val_accuracy: 0.9870\n",
            "Epoch 12/250\n",
            "7/7 [==============================] - 0s 6ms/step - loss: 0.2360 - accuracy: 0.5955 - val_loss: 0.0513 - val_accuracy: 0.9870\n",
            "Epoch 13/250\n",
            "7/7 [==============================] - 0s 5ms/step - loss: 0.2187 - accuracy: 0.5946 - val_loss: 0.0558 - val_accuracy: 0.9870\n",
            "Epoch 14/250\n",
            "7/7 [==============================] - 0s 6ms/step - loss: 0.2106 - accuracy: 0.5988 - val_loss: 0.0590 - val_accuracy: 0.9870\n",
            "Epoch 15/250\n",
            "7/7 [==============================] - 0s 6ms/step - loss: 0.1898 - accuracy: 0.6783 - val_loss: 0.0599 - val_accuracy: 0.9870\n",
            "Epoch 16/250\n",
            "7/7 [==============================] - 0s 5ms/step - loss: 0.1695 - accuracy: 0.7601 - val_loss: 0.0591 - val_accuracy: 0.9870\n",
            "Epoch 17/250\n",
            "7/7 [==============================] - 0s 6ms/step - loss: 0.1535 - accuracy: 0.8216 - val_loss: 0.0563 - val_accuracy: 0.9870\n",
            "Epoch 18/250\n",
            "7/7 [==============================] - 0s 6ms/step - loss: 0.1420 - accuracy: 0.8506 - val_loss: 0.0537 - val_accuracy: 0.9870\n",
            "Epoch 19/250\n",
            "7/7 [==============================] - 0s 5ms/step - loss: 0.1182 - accuracy: 0.8989 - val_loss: 0.0490 - val_accuracy: 0.9870\n",
            "Epoch 20/250\n",
            "7/7 [==============================] - 0s 6ms/step - loss: 0.1093 - accuracy: 0.9020 - val_loss: 0.0435 - val_accuracy: 0.9870\n",
            "Epoch 21/250\n",
            "7/7 [==============================] - 0s 6ms/step - loss: 0.0984 - accuracy: 0.8982 - val_loss: 0.0388 - val_accuracy: 0.9870\n",
            "Epoch 22/250\n",
            "7/7 [==============================] - 0s 6ms/step - loss: 0.0876 - accuracy: 0.9185 - val_loss: 0.0343 - val_accuracy: 0.9870\n",
            "Epoch 23/250\n",
            "7/7 [==============================] - 0s 6ms/step - loss: 0.0873 - accuracy: 0.9138 - val_loss: 0.0303 - val_accuracy: 0.9870\n",
            "Epoch 24/250\n",
            "7/7 [==============================] - 0s 5ms/step - loss: 0.0818 - accuracy: 0.9238 - val_loss: 0.0270 - val_accuracy: 0.9870\n",
            "Epoch 25/250\n",
            "7/7 [==============================] - 0s 6ms/step - loss: 0.0827 - accuracy: 0.9141 - val_loss: 0.0249 - val_accuracy: 0.9870\n",
            "Epoch 26/250\n",
            "7/7 [==============================] - 0s 7ms/step - loss: 0.0742 - accuracy: 0.9184 - val_loss: 0.0234 - val_accuracy: 0.9870\n",
            "Epoch 27/250\n",
            "7/7 [==============================] - 0s 6ms/step - loss: 0.0804 - accuracy: 0.9032 - val_loss: 0.0222 - val_accuracy: 0.9870\n",
            "Epoch 28/250\n",
            "7/7 [==============================] - 0s 5ms/step - loss: 0.0756 - accuracy: 0.9210 - val_loss: 0.0211 - val_accuracy: 0.9870\n",
            "Epoch 29/250\n",
            "7/7 [==============================] - 0s 6ms/step - loss: 0.0719 - accuracy: 0.9187 - val_loss: 0.0203 - val_accuracy: 0.9870\n",
            "Epoch 30/250\n",
            "7/7 [==============================] - 0s 6ms/step - loss: 0.0765 - accuracy: 0.9144 - val_loss: 0.0197 - val_accuracy: 0.9870\n",
            "Epoch 31/250\n",
            "7/7 [==============================] - 0s 6ms/step - loss: 0.0699 - accuracy: 0.9316 - val_loss: 0.0190 - val_accuracy: 0.9870\n",
            "Epoch 32/250\n",
            "7/7 [==============================] - 0s 7ms/step - loss: 0.0759 - accuracy: 0.9082 - val_loss: 0.0186 - val_accuracy: 0.9870\n",
            "Epoch 33/250\n",
            "7/7 [==============================] - 0s 7ms/step - loss: 0.0701 - accuracy: 0.9205 - val_loss: 0.0184 - val_accuracy: 0.9870\n",
            "Epoch 34/250\n",
            "7/7 [==============================] - 0s 6ms/step - loss: 0.0756 - accuracy: 0.9154 - val_loss: 0.0184 - val_accuracy: 0.9870\n",
            "Epoch 35/250\n",
            "7/7 [==============================] - 0s 6ms/step - loss: 0.0709 - accuracy: 0.9184 - val_loss: 0.0183 - val_accuracy: 0.9870\n",
            "Epoch 36/250\n",
            "7/7 [==============================] - 0s 6ms/step - loss: 0.0765 - accuracy: 0.9079 - val_loss: 0.0180 - val_accuracy: 0.9870\n",
            "Epoch 37/250\n",
            "7/7 [==============================] - 0s 6ms/step - loss: 0.0760 - accuracy: 0.9083 - val_loss: 0.0179 - val_accuracy: 0.9870\n",
            "Epoch 38/250\n",
            "7/7 [==============================] - 0s 5ms/step - loss: 0.0665 - accuracy: 0.9249 - val_loss: 0.0178 - val_accuracy: 0.9870\n",
            "Epoch 39/250\n",
            "7/7 [==============================] - 0s 6ms/step - loss: 0.0735 - accuracy: 0.9091 - val_loss: 0.0177 - val_accuracy: 0.9870\n",
            "Epoch 40/250\n",
            "7/7 [==============================] - 0s 5ms/step - loss: 0.0680 - accuracy: 0.9161 - val_loss: 0.0177 - val_accuracy: 0.9870\n",
            "Epoch 41/250\n",
            "7/7 [==============================] - 0s 5ms/step - loss: 0.0701 - accuracy: 0.9127 - val_loss: 0.0176 - val_accuracy: 0.9870\n",
            "Epoch 42/250\n",
            "7/7 [==============================] - 0s 7ms/step - loss: 0.0678 - accuracy: 0.9097 - val_loss: 0.0173 - val_accuracy: 0.9870\n",
            "Epoch 43/250\n",
            "7/7 [==============================] - 0s 7ms/step - loss: 0.0676 - accuracy: 0.9203 - val_loss: 0.0170 - val_accuracy: 0.9870\n",
            "Epoch 44/250\n",
            "7/7 [==============================] - 0s 7ms/step - loss: 0.0724 - accuracy: 0.9063 - val_loss: 0.0171 - val_accuracy: 0.9870\n",
            "Epoch 45/250\n",
            "7/7 [==============================] - 0s 6ms/step - loss: 0.0736 - accuracy: 0.9043 - val_loss: 0.0172 - val_accuracy: 0.9870\n",
            "Epoch 46/250\n",
            "7/7 [==============================] - 0s 6ms/step - loss: 0.0708 - accuracy: 0.9183 - val_loss: 0.0172 - val_accuracy: 0.9870\n",
            "Epoch 47/250\n",
            "7/7 [==============================] - 0s 8ms/step - loss: 0.0685 - accuracy: 0.9217 - val_loss: 0.0171 - val_accuracy: 0.9870\n",
            "Epoch 48/250\n",
            "7/7 [==============================] - 0s 7ms/step - loss: 0.0738 - accuracy: 0.9039 - val_loss: 0.0171 - val_accuracy: 0.9870\n",
            "Epoch 49/250\n",
            "7/7 [==============================] - 0s 7ms/step - loss: 0.0710 - accuracy: 0.9085 - val_loss: 0.0168 - val_accuracy: 0.9870\n",
            "Epoch 50/250\n",
            "7/7 [==============================] - 0s 8ms/step - loss: 0.0651 - accuracy: 0.9216 - val_loss: 0.0166 - val_accuracy: 0.9870\n",
            "Epoch 51/250\n",
            "7/7 [==============================] - 0s 6ms/step - loss: 0.0672 - accuracy: 0.9126 - val_loss: 0.0164 - val_accuracy: 0.9870\n",
            "Epoch 52/250\n",
            "7/7 [==============================] - 0s 6ms/step - loss: 0.0701 - accuracy: 0.9068 - val_loss: 0.0164 - val_accuracy: 0.9870\n",
            "Epoch 53/250\n",
            "7/7 [==============================] - 0s 6ms/step - loss: 0.0708 - accuracy: 0.9108 - val_loss: 0.0162 - val_accuracy: 0.9870\n",
            "Epoch 54/250\n",
            "7/7 [==============================] - 0s 6ms/step - loss: 0.0691 - accuracy: 0.9085 - val_loss: 0.0161 - val_accuracy: 0.9870\n",
            "Epoch 55/250\n",
            "7/7 [==============================] - 0s 6ms/step - loss: 0.0616 - accuracy: 0.9134 - val_loss: 0.0158 - val_accuracy: 0.9870\n",
            "Epoch 56/250\n",
            "7/7 [==============================] - 0s 6ms/step - loss: 0.0607 - accuracy: 0.9244 - val_loss: 0.0156 - val_accuracy: 0.9870\n",
            "Epoch 57/250\n",
            "7/7 [==============================] - 0s 7ms/step - loss: 0.0600 - accuracy: 0.9258 - val_loss: 0.0156 - val_accuracy: 0.9870\n",
            "Epoch 58/250\n",
            "7/7 [==============================] - 0s 7ms/step - loss: 0.0658 - accuracy: 0.9229 - val_loss: 0.0156 - val_accuracy: 0.9870\n",
            "Epoch 59/250\n",
            "7/7 [==============================] - 0s 8ms/step - loss: 0.0658 - accuracy: 0.9220 - val_loss: 0.0156 - val_accuracy: 0.9870\n",
            "Epoch 60/250\n",
            "7/7 [==============================] - 0s 7ms/step - loss: 0.0646 - accuracy: 0.9210 - val_loss: 0.0155 - val_accuracy: 0.9870\n",
            "Epoch 61/250\n",
            "7/7 [==============================] - 0s 6ms/step - loss: 0.0599 - accuracy: 0.9226 - val_loss: 0.0154 - val_accuracy: 0.9870\n",
            "Epoch 62/250\n",
            "7/7 [==============================] - 0s 6ms/step - loss: 0.0626 - accuracy: 0.9185 - val_loss: 0.0152 - val_accuracy: 0.9870\n",
            "Epoch 63/250\n",
            "7/7 [==============================] - 0s 5ms/step - loss: 0.0650 - accuracy: 0.9257 - val_loss: 0.0151 - val_accuracy: 0.9870\n",
            "Epoch 64/250\n",
            "7/7 [==============================] - 0s 6ms/step - loss: 0.0626 - accuracy: 0.9228 - val_loss: 0.0150 - val_accuracy: 0.9870\n",
            "Epoch 65/250\n",
            "7/7 [==============================] - 0s 6ms/step - loss: 0.0662 - accuracy: 0.9126 - val_loss: 0.0149 - val_accuracy: 0.9870\n",
            "Epoch 66/250\n",
            "7/7 [==============================] - 0s 6ms/step - loss: 0.0620 - accuracy: 0.9175 - val_loss: 0.0148 - val_accuracy: 0.9870\n",
            "Epoch 67/250\n",
            "7/7 [==============================] - 0s 7ms/step - loss: 0.0583 - accuracy: 0.9333 - val_loss: 0.0147 - val_accuracy: 0.9870\n",
            "Epoch 68/250\n",
            "7/7 [==============================] - 0s 6ms/step - loss: 0.0657 - accuracy: 0.9028 - val_loss: 0.0148 - val_accuracy: 0.9870\n",
            "Epoch 69/250\n",
            "7/7 [==============================] - 0s 7ms/step - loss: 0.0672 - accuracy: 0.9074 - val_loss: 0.0148 - val_accuracy: 0.9870\n",
            "Epoch 70/250\n",
            "7/7 [==============================] - 0s 7ms/step - loss: 0.0646 - accuracy: 0.9125 - val_loss: 0.0147 - val_accuracy: 0.9870\n",
            "Epoch 71/250\n",
            "7/7 [==============================] - 0s 6ms/step - loss: 0.0572 - accuracy: 0.9252 - val_loss: 0.0146 - val_accuracy: 0.9870\n",
            "Epoch 72/250\n",
            "7/7 [==============================] - 0s 7ms/step - loss: 0.0611 - accuracy: 0.9194 - val_loss: 0.0146 - val_accuracy: 0.9870\n",
            "Epoch 73/250\n",
            "7/7 [==============================] - 0s 7ms/step - loss: 0.0572 - accuracy: 0.9264 - val_loss: 0.0145 - val_accuracy: 0.9870\n",
            "Epoch 74/250\n",
            "7/7 [==============================] - 0s 7ms/step - loss: 0.0596 - accuracy: 0.9194 - val_loss: 0.0145 - val_accuracy: 0.9870\n",
            "Epoch 75/250\n",
            "7/7 [==============================] - 0s 7ms/step - loss: 0.0605 - accuracy: 0.9164 - val_loss: 0.0145 - val_accuracy: 0.9870\n",
            "Epoch 76/250\n",
            "7/7 [==============================] - 0s 7ms/step - loss: 0.0646 - accuracy: 0.9076 - val_loss: 0.0147 - val_accuracy: 0.9870\n",
            "Epoch 77/250\n",
            "7/7 [==============================] - 0s 7ms/step - loss: 0.0547 - accuracy: 0.9266 - val_loss: 0.0147 - val_accuracy: 0.9870\n",
            "Epoch 78/250\n",
            "7/7 [==============================] - 0s 6ms/step - loss: 0.0637 - accuracy: 0.9080 - val_loss: 0.0147 - val_accuracy: 0.9870\n",
            "Epoch 79/250\n",
            "7/7 [==============================] - 0s 6ms/step - loss: 0.0588 - accuracy: 0.9155 - val_loss: 0.0147 - val_accuracy: 0.9870\n",
            "Epoch 80/250\n",
            "7/7 [==============================] - 0s 7ms/step - loss: 0.0595 - accuracy: 0.9171 - val_loss: 0.0145 - val_accuracy: 0.9870\n",
            "Epoch 81/250\n",
            "7/7 [==============================] - 0s 7ms/step - loss: 0.0656 - accuracy: 0.9029 - val_loss: 0.0145 - val_accuracy: 0.9870\n",
            "Epoch 82/250\n",
            "7/7 [==============================] - 0s 7ms/step - loss: 0.0586 - accuracy: 0.9215 - val_loss: 0.0143 - val_accuracy: 0.9870\n",
            "Epoch 83/250\n",
            "7/7 [==============================] - 0s 6ms/step - loss: 0.0583 - accuracy: 0.9141 - val_loss: 0.0142 - val_accuracy: 0.9870\n",
            "Epoch 84/250\n",
            "7/7 [==============================] - 0s 8ms/step - loss: 0.0602 - accuracy: 0.9126 - val_loss: 0.0141 - val_accuracy: 0.9870\n",
            "Epoch 85/250\n",
            "7/7 [==============================] - 0s 5ms/step - loss: 0.0559 - accuracy: 0.9206 - val_loss: 0.0141 - val_accuracy: 0.9870\n",
            "Epoch 86/250\n",
            "7/7 [==============================] - 0s 5ms/step - loss: 0.0586 - accuracy: 0.9176 - val_loss: 0.0140 - val_accuracy: 0.9870\n",
            "Epoch 87/250\n",
            "7/7 [==============================] - 0s 6ms/step - loss: 0.0584 - accuracy: 0.9166 - val_loss: 0.0140 - val_accuracy: 0.9870\n",
            "Epoch 88/250\n",
            "7/7 [==============================] - 0s 6ms/step - loss: 0.0553 - accuracy: 0.9162 - val_loss: 0.0139 - val_accuracy: 0.9870\n",
            "Epoch 89/250\n",
            "7/7 [==============================] - 0s 9ms/step - loss: 0.0563 - accuracy: 0.9265 - val_loss: 0.0139 - val_accuracy: 0.9870\n",
            "Epoch 90/250\n",
            "7/7 [==============================] - 0s 6ms/step - loss: 0.0617 - accuracy: 0.9131 - val_loss: 0.0138 - val_accuracy: 0.9870\n",
            "Epoch 91/250\n",
            "7/7 [==============================] - 0s 6ms/step - loss: 0.0544 - accuracy: 0.9310 - val_loss: 0.0138 - val_accuracy: 0.9870\n",
            "Epoch 92/250\n",
            "7/7 [==============================] - 0s 6ms/step - loss: 0.0617 - accuracy: 0.9105 - val_loss: 0.0138 - val_accuracy: 0.9870\n",
            "Epoch 93/250\n",
            "7/7 [==============================] - 0s 6ms/step - loss: 0.0587 - accuracy: 0.9211 - val_loss: 0.0137 - val_accuracy: 0.9870\n",
            "Epoch 94/250\n",
            "7/7 [==============================] - 0s 7ms/step - loss: 0.0599 - accuracy: 0.9187 - val_loss: 0.0137 - val_accuracy: 0.9870\n",
            "Epoch 95/250\n",
            "7/7 [==============================] - 0s 6ms/step - loss: 0.0609 - accuracy: 0.9071 - val_loss: 0.0137 - val_accuracy: 0.9870\n",
            "Epoch 96/250\n",
            "7/7 [==============================] - 0s 5ms/step - loss: 0.0546 - accuracy: 0.9291 - val_loss: 0.0138 - val_accuracy: 0.9870\n",
            "Epoch 97/250\n",
            "7/7 [==============================] - 0s 6ms/step - loss: 0.0565 - accuracy: 0.9242 - val_loss: 0.0137 - val_accuracy: 0.9870\n",
            "Epoch 98/250\n",
            "7/7 [==============================] - 0s 6ms/step - loss: 0.0565 - accuracy: 0.9261 - val_loss: 0.0137 - val_accuracy: 0.9870\n",
            "Epoch 99/250\n",
            "7/7 [==============================] - 0s 6ms/step - loss: 0.0574 - accuracy: 0.9232 - val_loss: 0.0137 - val_accuracy: 0.9870\n",
            "Epoch 100/250\n",
            "7/7 [==============================] - 0s 6ms/step - loss: 0.0592 - accuracy: 0.9179 - val_loss: 0.0138 - val_accuracy: 0.9870\n",
            "Epoch 101/250\n",
            "7/7 [==============================] - 0s 7ms/step - loss: 0.0519 - accuracy: 0.9350 - val_loss: 0.0138 - val_accuracy: 0.9870\n",
            "Epoch 102/250\n",
            "7/7 [==============================] - 0s 8ms/step - loss: 0.0550 - accuracy: 0.9215 - val_loss: 0.0138 - val_accuracy: 0.9870\n",
            "Epoch 103/250\n",
            "7/7 [==============================] - 0s 7ms/step - loss: 0.0550 - accuracy: 0.9187 - val_loss: 0.0138 - val_accuracy: 0.9870\n",
            "Epoch 104/250\n",
            "7/7 [==============================] - 0s 5ms/step - loss: 0.0470 - accuracy: 0.9368 - val_loss: 0.0138 - val_accuracy: 0.9870\n",
            "Epoch 105/250\n",
            "7/7 [==============================] - 0s 8ms/step - loss: 0.0573 - accuracy: 0.9169 - val_loss: 0.0139 - val_accuracy: 0.9870\n",
            "Epoch 106/250\n",
            "7/7 [==============================] - 0s 5ms/step - loss: 0.0588 - accuracy: 0.9138 - val_loss: 0.0140 - val_accuracy: 0.9870\n",
            "Epoch 107/250\n",
            "7/7 [==============================] - 0s 5ms/step - loss: 0.0545 - accuracy: 0.9177 - val_loss: 0.0140 - val_accuracy: 0.9870\n",
            "Epoch 108/250\n",
            "7/7 [==============================] - 0s 6ms/step - loss: 0.0536 - accuracy: 0.9253 - val_loss: 0.0139 - val_accuracy: 0.9870\n",
            "Epoch 109/250\n",
            "7/7 [==============================] - 0s 6ms/step - loss: 0.0511 - accuracy: 0.9278 - val_loss: 0.0137 - val_accuracy: 0.9870\n",
            "Epoch 110/250\n",
            "7/7 [==============================] - 0s 6ms/step - loss: 0.0528 - accuracy: 0.9221 - val_loss: 0.0137 - val_accuracy: 0.9870\n",
            "Epoch 111/250\n",
            "7/7 [==============================] - 0s 6ms/step - loss: 0.0542 - accuracy: 0.9209 - val_loss: 0.0137 - val_accuracy: 0.9870\n",
            "Epoch 112/250\n",
            "7/7 [==============================] - 0s 6ms/step - loss: 0.0536 - accuracy: 0.9222 - val_loss: 0.0137 - val_accuracy: 0.9870\n",
            "Epoch 113/250\n",
            "7/7 [==============================] - 0s 5ms/step - loss: 0.0562 - accuracy: 0.9184 - val_loss: 0.0137 - val_accuracy: 0.9870\n",
            "Epoch 114/250\n",
            "7/7 [==============================] - 0s 6ms/step - loss: 0.0528 - accuracy: 0.9287 - val_loss: 0.0136 - val_accuracy: 0.9870\n",
            "Epoch 115/250\n",
            "7/7 [==============================] - 0s 7ms/step - loss: 0.0504 - accuracy: 0.9216 - val_loss: 0.0136 - val_accuracy: 0.9870\n",
            "Epoch 116/250\n",
            "7/7 [==============================] - 0s 6ms/step - loss: 0.0574 - accuracy: 0.9079 - val_loss: 0.0136 - val_accuracy: 0.9870\n",
            "Epoch 117/250\n",
            "7/7 [==============================] - 0s 7ms/step - loss: 0.0514 - accuracy: 0.9243 - val_loss: 0.0136 - val_accuracy: 0.9870\n",
            "Epoch 118/250\n",
            "7/7 [==============================] - 0s 7ms/step - loss: 0.0512 - accuracy: 0.9292 - val_loss: 0.0136 - val_accuracy: 0.9870\n",
            "Epoch 119/250\n",
            "7/7 [==============================] - 0s 6ms/step - loss: 0.0492 - accuracy: 0.9338 - val_loss: 0.0136 - val_accuracy: 0.9870\n",
            "Epoch 120/250\n",
            "7/7 [==============================] - 0s 7ms/step - loss: 0.0540 - accuracy: 0.9144 - val_loss: 0.0136 - val_accuracy: 0.9870\n",
            "Epoch 121/250\n",
            "7/7 [==============================] - 0s 6ms/step - loss: 0.0525 - accuracy: 0.9301 - val_loss: 0.0135 - val_accuracy: 0.9870\n",
            "Epoch 122/250\n",
            "7/7 [==============================] - 0s 7ms/step - loss: 0.0525 - accuracy: 0.9236 - val_loss: 0.0136 - val_accuracy: 0.9870\n",
            "Epoch 123/250\n",
            "7/7 [==============================] - 0s 7ms/step - loss: 0.0543 - accuracy: 0.9222 - val_loss: 0.0137 - val_accuracy: 0.9870\n",
            "Epoch 124/250\n",
            "7/7 [==============================] - 0s 6ms/step - loss: 0.0496 - accuracy: 0.9354 - val_loss: 0.0137 - val_accuracy: 0.9870\n",
            "Epoch 125/250\n",
            "7/7 [==============================] - 0s 6ms/step - loss: 0.0519 - accuracy: 0.9215 - val_loss: 0.0137 - val_accuracy: 0.9870\n",
            "Epoch 126/250\n",
            "7/7 [==============================] - 0s 7ms/step - loss: 0.0509 - accuracy: 0.9322 - val_loss: 0.0137 - val_accuracy: 0.9870\n",
            "Epoch 127/250\n",
            "7/7 [==============================] - 0s 7ms/step - loss: 0.0489 - accuracy: 0.9372 - val_loss: 0.0137 - val_accuracy: 0.9870\n",
            "Epoch 128/250\n",
            "7/7 [==============================] - 0s 6ms/step - loss: 0.0571 - accuracy: 0.9230 - val_loss: 0.0138 - val_accuracy: 0.9870\n",
            "Epoch 129/250\n",
            "7/7 [==============================] - 0s 7ms/step - loss: 0.0518 - accuracy: 0.9257 - val_loss: 0.0138 - val_accuracy: 0.9870\n",
            "Epoch 130/250\n",
            "7/7 [==============================] - 0s 6ms/step - loss: 0.0497 - accuracy: 0.9315 - val_loss: 0.0137 - val_accuracy: 0.9870\n",
            "Epoch 131/250\n",
            "7/7 [==============================] - 0s 7ms/step - loss: 0.0521 - accuracy: 0.9249 - val_loss: 0.0137 - val_accuracy: 0.9870\n",
            "Epoch 132/250\n",
            "7/7 [==============================] - 0s 6ms/step - loss: 0.0507 - accuracy: 0.9348 - val_loss: 0.0137 - val_accuracy: 0.9870\n",
            "Epoch 133/250\n",
            "7/7 [==============================] - 0s 6ms/step - loss: 0.0541 - accuracy: 0.9304 - val_loss: 0.0137 - val_accuracy: 0.9870\n",
            "Epoch 134/250\n",
            "7/7 [==============================] - 0s 8ms/step - loss: 0.0560 - accuracy: 0.9300 - val_loss: 0.0137 - val_accuracy: 0.9870\n",
            "Epoch 135/250\n",
            "7/7 [==============================] - 0s 5ms/step - loss: 0.0490 - accuracy: 0.9332 - val_loss: 0.0136 - val_accuracy: 0.9870\n",
            "Epoch 136/250\n",
            "7/7 [==============================] - 0s 6ms/step - loss: 0.0508 - accuracy: 0.9269 - val_loss: 0.0136 - val_accuracy: 0.9870\n",
            "Epoch 137/250\n",
            "7/7 [==============================] - 0s 7ms/step - loss: 0.0519 - accuracy: 0.9217 - val_loss: 0.0136 - val_accuracy: 0.9870\n",
            "Epoch 138/250\n",
            "7/7 [==============================] - 0s 6ms/step - loss: 0.0521 - accuracy: 0.9284 - val_loss: 0.0136 - val_accuracy: 0.9870\n",
            "Epoch 139/250\n",
            "7/7 [==============================] - 0s 6ms/step - loss: 0.0483 - accuracy: 0.9426 - val_loss: 0.0136 - val_accuracy: 0.9870\n",
            "Epoch 140/250\n",
            "7/7 [==============================] - 0s 6ms/step - loss: 0.0518 - accuracy: 0.9325 - val_loss: 0.0136 - val_accuracy: 0.9870\n",
            "Epoch 141/250\n",
            "7/7 [==============================] - 0s 6ms/step - loss: 0.0558 - accuracy: 0.9237 - val_loss: 0.0136 - val_accuracy: 0.9870\n",
            "Epoch 142/250\n",
            "7/7 [==============================] - 0s 7ms/step - loss: 0.0526 - accuracy: 0.9262 - val_loss: 0.0136 - val_accuracy: 0.9870\n",
            "Epoch 143/250\n",
            "7/7 [==============================] - 0s 7ms/step - loss: 0.0454 - accuracy: 0.9379 - val_loss: 0.0136 - val_accuracy: 0.9870\n",
            "Epoch 144/250\n",
            "7/7 [==============================] - 0s 7ms/step - loss: 0.0469 - accuracy: 0.9384 - val_loss: 0.0137 - val_accuracy: 0.9870\n",
            "Epoch 145/250\n",
            "7/7 [==============================] - 0s 8ms/step - loss: 0.0495 - accuracy: 0.9300 - val_loss: 0.0137 - val_accuracy: 0.9870\n",
            "Epoch 146/250\n",
            "7/7 [==============================] - 0s 7ms/step - loss: 0.0501 - accuracy: 0.9317 - val_loss: 0.0138 - val_accuracy: 0.9870\n",
            "Epoch 147/250\n",
            "7/7 [==============================] - 0s 6ms/step - loss: 0.0521 - accuracy: 0.9219 - val_loss: 0.0138 - val_accuracy: 0.9870\n",
            "Epoch 148/250\n",
            "7/7 [==============================] - 0s 6ms/step - loss: 0.0491 - accuracy: 0.9390 - val_loss: 0.0138 - val_accuracy: 0.9870\n",
            "Epoch 149/250\n",
            "7/7 [==============================] - 0s 5ms/step - loss: 0.0509 - accuracy: 0.9352 - val_loss: 0.0138 - val_accuracy: 0.9870\n",
            "Epoch 150/250\n",
            "7/7 [==============================] - 0s 7ms/step - loss: 0.0460 - accuracy: 0.9376 - val_loss: 0.0138 - val_accuracy: 0.9870\n",
            "Epoch 151/250\n",
            "7/7 [==============================] - 0s 5ms/step - loss: 0.0505 - accuracy: 0.9256 - val_loss: 0.0138 - val_accuracy: 0.9870\n",
            "Epoch 152/250\n",
            "7/7 [==============================] - 0s 6ms/step - loss: 0.0501 - accuracy: 0.9322 - val_loss: 0.0138 - val_accuracy: 0.9870\n",
            "Epoch 153/250\n",
            "7/7 [==============================] - 0s 6ms/step - loss: 0.0567 - accuracy: 0.9194 - val_loss: 0.0137 - val_accuracy: 0.9870\n",
            "Epoch 154/250\n",
            "7/7 [==============================] - 0s 6ms/step - loss: 0.0569 - accuracy: 0.9176 - val_loss: 0.0137 - val_accuracy: 0.9870\n",
            "Epoch 155/250\n",
            "7/7 [==============================] - 0s 6ms/step - loss: 0.0491 - accuracy: 0.9361 - val_loss: 0.0137 - val_accuracy: 0.9870\n",
            "Epoch 156/250\n",
            "7/7 [==============================] - 0s 6ms/step - loss: 0.0524 - accuracy: 0.9292 - val_loss: 0.0138 - val_accuracy: 0.9870\n",
            "Epoch 157/250\n",
            "7/7 [==============================] - 0s 7ms/step - loss: 0.0537 - accuracy: 0.9293 - val_loss: 0.0138 - val_accuracy: 0.9870\n",
            "Epoch 158/250\n",
            "7/7 [==============================] - 0s 6ms/step - loss: 0.0516 - accuracy: 0.9321 - val_loss: 0.0138 - val_accuracy: 0.9870\n",
            "Epoch 159/250\n",
            "7/7 [==============================] - 0s 6ms/step - loss: 0.0496 - accuracy: 0.9288 - val_loss: 0.0138 - val_accuracy: 0.9870\n",
            "Epoch 160/250\n",
            "7/7 [==============================] - 0s 6ms/step - loss: 0.0495 - accuracy: 0.9320 - val_loss: 0.0138 - val_accuracy: 0.9870\n",
            "Epoch 161/250\n",
            "7/7 [==============================] - 0s 6ms/step - loss: 0.0534 - accuracy: 0.9321 - val_loss: 0.0138 - val_accuracy: 0.9870\n",
            "Epoch 162/250\n",
            "7/7 [==============================] - 0s 6ms/step - loss: 0.0533 - accuracy: 0.9344 - val_loss: 0.0139 - val_accuracy: 0.9870\n",
            "Epoch 163/250\n",
            "7/7 [==============================] - 0s 6ms/step - loss: 0.0483 - accuracy: 0.9371 - val_loss: 0.0139 - val_accuracy: 0.9870\n",
            "Epoch 164/250\n",
            "7/7 [==============================] - 0s 6ms/step - loss: 0.0525 - accuracy: 0.9306 - val_loss: 0.0139 - val_accuracy: 0.9870\n",
            "Epoch 165/250\n",
            "7/7 [==============================] - 0s 5ms/step - loss: 0.0509 - accuracy: 0.9324 - val_loss: 0.0138 - val_accuracy: 0.9870\n",
            "Epoch 166/250\n",
            "7/7 [==============================] - 0s 6ms/step - loss: 0.0509 - accuracy: 0.9334 - val_loss: 0.0138 - val_accuracy: 0.9870\n",
            "Epoch 167/250\n",
            "7/7 [==============================] - 0s 7ms/step - loss: 0.0523 - accuracy: 0.9357 - val_loss: 0.0138 - val_accuracy: 0.9870\n",
            "Epoch 168/250\n",
            "7/7 [==============================] - 0s 8ms/step - loss: 0.0459 - accuracy: 0.9399 - val_loss: 0.0137 - val_accuracy: 0.9870\n",
            "Epoch 169/250\n",
            "7/7 [==============================] - 0s 6ms/step - loss: 0.0456 - accuracy: 0.9395 - val_loss: 0.0138 - val_accuracy: 0.9870\n",
            "Epoch 170/250\n",
            "7/7 [==============================] - 0s 7ms/step - loss: 0.0491 - accuracy: 0.9383 - val_loss: 0.0138 - val_accuracy: 0.9870\n",
            "Epoch 171/250\n",
            "7/7 [==============================] - 0s 7ms/step - loss: 0.0478 - accuracy: 0.9454 - val_loss: 0.0139 - val_accuracy: 0.9870\n",
            "Epoch 172/250\n",
            "7/7 [==============================] - 0s 6ms/step - loss: 0.0463 - accuracy: 0.9448 - val_loss: 0.0140 - val_accuracy: 0.9870\n",
            "Epoch 173/250\n",
            "7/7 [==============================] - 0s 6ms/step - loss: 0.0511 - accuracy: 0.9320 - val_loss: 0.0140 - val_accuracy: 0.9870\n",
            "Epoch 174/250\n",
            "7/7 [==============================] - 0s 7ms/step - loss: 0.0478 - accuracy: 0.9300 - val_loss: 0.0140 - val_accuracy: 0.9870\n",
            "Epoch 175/250\n",
            "7/7 [==============================] - 0s 7ms/step - loss: 0.0495 - accuracy: 0.9284 - val_loss: 0.0140 - val_accuracy: 0.9870\n",
            "Epoch 176/250\n",
            "7/7 [==============================] - 0s 8ms/step - loss: 0.0429 - accuracy: 0.9487 - val_loss: 0.0140 - val_accuracy: 0.9870\n",
            "Epoch 177/250\n",
            "7/7 [==============================] - 0s 8ms/step - loss: 0.0451 - accuracy: 0.9424 - val_loss: 0.0140 - val_accuracy: 0.9870\n",
            "Epoch 178/250\n",
            "7/7 [==============================] - 0s 7ms/step - loss: 0.0471 - accuracy: 0.9373 - val_loss: 0.0140 - val_accuracy: 0.9870\n",
            "Epoch 179/250\n",
            "7/7 [==============================] - 0s 6ms/step - loss: 0.0443 - accuracy: 0.9405 - val_loss: 0.0140 - val_accuracy: 0.9870\n",
            "Epoch 180/250\n",
            "7/7 [==============================] - 0s 7ms/step - loss: 0.0495 - accuracy: 0.9342 - val_loss: 0.0139 - val_accuracy: 0.9870\n",
            "Epoch 181/250\n",
            "7/7 [==============================] - 0s 7ms/step - loss: 0.0491 - accuracy: 0.9399 - val_loss: 0.0139 - val_accuracy: 0.9870\n",
            "Epoch 182/250\n",
            "7/7 [==============================] - 0s 7ms/step - loss: 0.0463 - accuracy: 0.9397 - val_loss: 0.0140 - val_accuracy: 0.9870\n",
            "Epoch 183/250\n",
            "7/7 [==============================] - 0s 5ms/step - loss: 0.0513 - accuracy: 0.9350 - val_loss: 0.0140 - val_accuracy: 0.9870\n",
            "Epoch 184/250\n",
            "7/7 [==============================] - 0s 7ms/step - loss: 0.0460 - accuracy: 0.9368 - val_loss: 0.0140 - val_accuracy: 0.9870\n",
            "Epoch 185/250\n",
            "7/7 [==============================] - 0s 6ms/step - loss: 0.0485 - accuracy: 0.9277 - val_loss: 0.0139 - val_accuracy: 0.9870\n",
            "Epoch 186/250\n",
            "7/7 [==============================] - 0s 6ms/step - loss: 0.0533 - accuracy: 0.9293 - val_loss: 0.0139 - val_accuracy: 0.9870\n",
            "Epoch 187/250\n",
            "7/7 [==============================] - 0s 6ms/step - loss: 0.0457 - accuracy: 0.9329 - val_loss: 0.0139 - val_accuracy: 0.9870\n",
            "Epoch 188/250\n",
            "7/7 [==============================] - 0s 7ms/step - loss: 0.0484 - accuracy: 0.9329 - val_loss: 0.0139 - val_accuracy: 0.9870\n",
            "Epoch 189/250\n",
            "7/7 [==============================] - 0s 5ms/step - loss: 0.0434 - accuracy: 0.9411 - val_loss: 0.0138 - val_accuracy: 0.9870\n",
            "Epoch 190/250\n",
            "7/7 [==============================] - 0s 6ms/step - loss: 0.0462 - accuracy: 0.9336 - val_loss: 0.0139 - val_accuracy: 0.9870\n",
            "Epoch 191/250\n",
            "7/7 [==============================] - 0s 6ms/step - loss: 0.0503 - accuracy: 0.9315 - val_loss: 0.0139 - val_accuracy: 0.9870\n",
            "Epoch 192/250\n",
            "7/7 [==============================] - 0s 7ms/step - loss: 0.0471 - accuracy: 0.9383 - val_loss: 0.0140 - val_accuracy: 0.9870\n",
            "Epoch 193/250\n",
            "7/7 [==============================] - 0s 6ms/step - loss: 0.0487 - accuracy: 0.9312 - val_loss: 0.0138 - val_accuracy: 0.9870\n",
            "Epoch 194/250\n",
            "7/7 [==============================] - 0s 6ms/step - loss: 0.0472 - accuracy: 0.9361 - val_loss: 0.0138 - val_accuracy: 0.9870\n",
            "Epoch 195/250\n",
            "7/7 [==============================] - 0s 6ms/step - loss: 0.0471 - accuracy: 0.9454 - val_loss: 0.0139 - val_accuracy: 0.9870\n",
            "Epoch 196/250\n",
            "7/7 [==============================] - 0s 6ms/step - loss: 0.0406 - accuracy: 0.9526 - val_loss: 0.0138 - val_accuracy: 0.9870\n",
            "Epoch 197/250\n",
            "7/7 [==============================] - 0s 6ms/step - loss: 0.0487 - accuracy: 0.9373 - val_loss: 0.0141 - val_accuracy: 0.9870\n",
            "Epoch 198/250\n",
            "7/7 [==============================] - 0s 6ms/step - loss: 0.0442 - accuracy: 0.9423 - val_loss: 0.0143 - val_accuracy: 0.9870\n",
            "Epoch 199/250\n",
            "7/7 [==============================] - 0s 7ms/step - loss: 0.0432 - accuracy: 0.9410 - val_loss: 0.0143 - val_accuracy: 0.9870\n",
            "Epoch 200/250\n",
            "7/7 [==============================] - 0s 7ms/step - loss: 0.0568 - accuracy: 0.9205 - val_loss: 0.0147 - val_accuracy: 0.9870\n",
            "Epoch 201/250\n",
            "7/7 [==============================] - 0s 7ms/step - loss: 0.0426 - accuracy: 0.9437 - val_loss: 0.0149 - val_accuracy: 0.9870\n",
            "Epoch 202/250\n",
            "7/7 [==============================] - 0s 6ms/step - loss: 0.0501 - accuracy: 0.9365 - val_loss: 0.0148 - val_accuracy: 0.9870\n",
            "Epoch 203/250\n",
            "7/7 [==============================] - 0s 6ms/step - loss: 0.0463 - accuracy: 0.9444 - val_loss: 0.0145 - val_accuracy: 0.9870\n",
            "Epoch 204/250\n",
            "7/7 [==============================] - 0s 7ms/step - loss: 0.0443 - accuracy: 0.9507 - val_loss: 0.0144 - val_accuracy: 0.9870\n",
            "Epoch 205/250\n",
            "7/7 [==============================] - 0s 6ms/step - loss: 0.0476 - accuracy: 0.9481 - val_loss: 0.0143 - val_accuracy: 0.9870\n",
            "Epoch 206/250\n",
            "7/7 [==============================] - 0s 7ms/step - loss: 0.0493 - accuracy: 0.9416 - val_loss: 0.0142 - val_accuracy: 0.9870\n",
            "Epoch 207/250\n",
            "7/7 [==============================] - 0s 8ms/step - loss: 0.0492 - accuracy: 0.9423 - val_loss: 0.0141 - val_accuracy: 0.9870\n",
            "Epoch 208/250\n",
            "7/7 [==============================] - 0s 6ms/step - loss: 0.0489 - accuracy: 0.9302 - val_loss: 0.0141 - val_accuracy: 0.9870\n",
            "Epoch 209/250\n",
            "7/7 [==============================] - 0s 7ms/step - loss: 0.0486 - accuracy: 0.9360 - val_loss: 0.0141 - val_accuracy: 0.9870\n",
            "Epoch 210/250\n",
            "7/7 [==============================] - 0s 6ms/step - loss: 0.0496 - accuracy: 0.9313 - val_loss: 0.0141 - val_accuracy: 0.9870\n",
            "Epoch 211/250\n",
            "7/7 [==============================] - 0s 6ms/step - loss: 0.0405 - accuracy: 0.9493 - val_loss: 0.0142 - val_accuracy: 0.9870\n",
            "Epoch 212/250\n",
            "7/7 [==============================] - 0s 6ms/step - loss: 0.0463 - accuracy: 0.9390 - val_loss: 0.0142 - val_accuracy: 0.9870\n",
            "Epoch 213/250\n",
            "7/7 [==============================] - 0s 6ms/step - loss: 0.0452 - accuracy: 0.9502 - val_loss: 0.0141 - val_accuracy: 0.9870\n",
            "Epoch 214/250\n",
            "7/7 [==============================] - 0s 6ms/step - loss: 0.0484 - accuracy: 0.9398 - val_loss: 0.0140 - val_accuracy: 0.9870\n",
            "Epoch 215/250\n",
            "7/7 [==============================] - 0s 6ms/step - loss: 0.0423 - accuracy: 0.9494 - val_loss: 0.0140 - val_accuracy: 0.9870\n",
            "Epoch 216/250\n",
            "7/7 [==============================] - 0s 7ms/step - loss: 0.0523 - accuracy: 0.9437 - val_loss: 0.0140 - val_accuracy: 0.9870\n",
            "Epoch 217/250\n",
            "7/7 [==============================] - 0s 6ms/step - loss: 0.0507 - accuracy: 0.9442 - val_loss: 0.0141 - val_accuracy: 0.9870\n",
            "Epoch 218/250\n",
            "7/7 [==============================] - 0s 7ms/step - loss: 0.0478 - accuracy: 0.9458 - val_loss: 0.0141 - val_accuracy: 0.9870\n",
            "Epoch 219/250\n",
            "7/7 [==============================] - 0s 7ms/step - loss: 0.0438 - accuracy: 0.9478 - val_loss: 0.0141 - val_accuracy: 0.9870\n",
            "Epoch 220/250\n",
            "7/7 [==============================] - 0s 7ms/step - loss: 0.0467 - accuracy: 0.9429 - val_loss: 0.0141 - val_accuracy: 0.9870\n",
            "Epoch 221/250\n",
            "7/7 [==============================] - 0s 7ms/step - loss: 0.0505 - accuracy: 0.9382 - val_loss: 0.0141 - val_accuracy: 0.9870\n",
            "Epoch 222/250\n",
            "7/7 [==============================] - 0s 6ms/step - loss: 0.0513 - accuracy: 0.9420 - val_loss: 0.0142 - val_accuracy: 0.9870\n",
            "Epoch 223/250\n",
            "7/7 [==============================] - 0s 6ms/step - loss: 0.0493 - accuracy: 0.9492 - val_loss: 0.0142 - val_accuracy: 0.9870\n",
            "Epoch 224/250\n",
            "7/7 [==============================] - 0s 8ms/step - loss: 0.0504 - accuracy: 0.9380 - val_loss: 0.0142 - val_accuracy: 0.9870\n",
            "Epoch 225/250\n",
            "7/7 [==============================] - 0s 8ms/step - loss: 0.0477 - accuracy: 0.9491 - val_loss: 0.0143 - val_accuracy: 0.9870\n",
            "Epoch 226/250\n",
            "7/7 [==============================] - 0s 8ms/step - loss: 0.0487 - accuracy: 0.9421 - val_loss: 0.0142 - val_accuracy: 0.9870\n",
            "Epoch 227/250\n",
            "7/7 [==============================] - 0s 8ms/step - loss: 0.0506 - accuracy: 0.9382 - val_loss: 0.0143 - val_accuracy: 0.9870\n",
            "Epoch 228/250\n",
            "7/7 [==============================] - 0s 7ms/step - loss: 0.0451 - accuracy: 0.9488 - val_loss: 0.0143 - val_accuracy: 0.9870\n",
            "Epoch 229/250\n",
            "7/7 [==============================] - 0s 7ms/step - loss: 0.0425 - accuracy: 0.9551 - val_loss: 0.0142 - val_accuracy: 0.9870\n",
            "Epoch 230/250\n",
            "7/7 [==============================] - 0s 8ms/step - loss: 0.0485 - accuracy: 0.9405 - val_loss: 0.0141 - val_accuracy: 0.9870\n",
            "Epoch 231/250\n",
            "7/7 [==============================] - 0s 7ms/step - loss: 0.0465 - accuracy: 0.9400 - val_loss: 0.0141 - val_accuracy: 0.9870\n",
            "Epoch 232/250\n",
            "7/7 [==============================] - 0s 7ms/step - loss: 0.0460 - accuracy: 0.9433 - val_loss: 0.0142 - val_accuracy: 0.9870\n",
            "Epoch 233/250\n",
            "7/7 [==============================] - 0s 8ms/step - loss: 0.0433 - accuracy: 0.9492 - val_loss: 0.0142 - val_accuracy: 0.9870\n",
            "Epoch 234/250\n",
            "7/7 [==============================] - 0s 7ms/step - loss: 0.0461 - accuracy: 0.9449 - val_loss: 0.0143 - val_accuracy: 0.9870\n",
            "Epoch 235/250\n",
            "7/7 [==============================] - 0s 7ms/step - loss: 0.0438 - accuracy: 0.9456 - val_loss: 0.0141 - val_accuracy: 0.9870\n",
            "Epoch 236/250\n",
            "7/7 [==============================] - 0s 7ms/step - loss: 0.0493 - accuracy: 0.9379 - val_loss: 0.0140 - val_accuracy: 0.9870\n",
            "Epoch 237/250\n",
            "7/7 [==============================] - 0s 7ms/step - loss: 0.0475 - accuracy: 0.9401 - val_loss: 0.0140 - val_accuracy: 0.9870\n",
            "Epoch 238/250\n",
            "7/7 [==============================] - 0s 7ms/step - loss: 0.0480 - accuracy: 0.9430 - val_loss: 0.0141 - val_accuracy: 0.9870\n",
            "Epoch 239/250\n",
            "7/7 [==============================] - 0s 8ms/step - loss: 0.0453 - accuracy: 0.9457 - val_loss: 0.0140 - val_accuracy: 0.9870\n",
            "Epoch 240/250\n",
            "7/7 [==============================] - 0s 6ms/step - loss: 0.0495 - accuracy: 0.9380 - val_loss: 0.0140 - val_accuracy: 0.9870\n",
            "Epoch 241/250\n",
            "7/7 [==============================] - 0s 7ms/step - loss: 0.0449 - accuracy: 0.9427 - val_loss: 0.0140 - val_accuracy: 0.9870\n",
            "Epoch 242/250\n",
            "7/7 [==============================] - 0s 6ms/step - loss: 0.0478 - accuracy: 0.9363 - val_loss: 0.0141 - val_accuracy: 0.9870\n",
            "Epoch 243/250\n",
            "7/7 [==============================] - 0s 7ms/step - loss: 0.0450 - accuracy: 0.9469 - val_loss: 0.0141 - val_accuracy: 0.9870\n",
            "Epoch 244/250\n",
            "7/7 [==============================] - 0s 7ms/step - loss: 0.0434 - accuracy: 0.9464 - val_loss: 0.0141 - val_accuracy: 0.9870\n",
            "Epoch 245/250\n",
            "7/7 [==============================] - 0s 7ms/step - loss: 0.0468 - accuracy: 0.9420 - val_loss: 0.0141 - val_accuracy: 0.9870\n",
            "Epoch 246/250\n",
            "7/7 [==============================] - 0s 7ms/step - loss: 0.0444 - accuracy: 0.9509 - val_loss: 0.0142 - val_accuracy: 0.9870\n",
            "Epoch 247/250\n",
            "7/7 [==============================] - 0s 9ms/step - loss: 0.0480 - accuracy: 0.9417 - val_loss: 0.0142 - val_accuracy: 0.9870\n",
            "Epoch 248/250\n",
            "7/7 [==============================] - 0s 6ms/step - loss: 0.0464 - accuracy: 0.9469 - val_loss: 0.0141 - val_accuracy: 0.9870\n",
            "Epoch 249/250\n",
            "7/7 [==============================] - 0s 8ms/step - loss: 0.0447 - accuracy: 0.9481 - val_loss: 0.0141 - val_accuracy: 0.9870\n",
            "Epoch 250/250\n",
            "7/7 [==============================] - 0s 7ms/step - loss: 0.0453 - accuracy: 0.9424 - val_loss: 0.0141 - val_accuracy: 0.9870\n"
          ],
          "name": "stdout"
        }
      ]
    },
    {
      "cell_type": "code",
      "metadata": {
        "colab": {
          "base_uri": "https://localhost:8080/",
          "height": 312
        },
        "id": "z1kKW4XcwYqJ",
        "outputId": "b278111c-66c9-40c0-906c-60fcf71d9e5c"
      },
      "source": [
        "print(history.history.keys())\n",
        "# \"Loss\"\n",
        "plt.plot(history.history['loss'])\n",
        "plt.plot(history.history['val_loss'])\n",
        "plt.title('model loss')\n",
        "plt.ylabel('loss')\n",
        "plt.xlabel('epoch')\n",
        "plt.legend(['train', 'validation'], loc='upper left')\n",
        "plt.grid()\n",
        "plt.savefig('loss_final.png',dpi=800)\n",
        "plt.show()"
      ],
      "execution_count": 434,
      "outputs": [
        {
          "output_type": "stream",
          "text": [
            "dict_keys(['loss', 'accuracy', 'val_loss', 'val_accuracy'])\n"
          ],
          "name": "stdout"
        },
        {
          "output_type": "display_data",
          "data": {
            "image/png": "[encoded data removed]",
            "text/plain": [
              "<Figure size 432x288 with 1 Axes>"
            ]
          },
          "metadata": {
            "tags": [],
            "needs_background": "light"
          }
        }
      ]
    },
    {
      "cell_type": "code",
      "metadata": {
        "colab": {
          "base_uri": "https://localhost:8080/",
          "height": 312
        },
        "id": "mZVQdh_dw9VS",
        "outputId": "0b61cac7-51fa-48b5-a0bb-db677bf9d5d9"
      },
      "source": [
        "print(history.history.keys())\n",
        "# \"accuracy\"\n",
        "plt.plot(history.history['accuracy'])\n",
        "plt.plot(history.history['val_accuracy'])\n",
        "plt.title('model accuracy')\n",
        "plt.ylabel('accuracy')\n",
        "plt.xlabel('epoch')\n",
        "plt.legend(['train', 'validation'], loc='upper left')\n",
        "plt.grid()\n",
        "plt.savefig('accuracy_final.png',dpi=800)\n",
        "plt.show()"
      ],
      "execution_count": 435,
      "outputs": [
        {
          "output_type": "stream",
          "text": [
            "dict_keys(['loss', 'accuracy', 'val_loss', 'val_accuracy'])\n"
          ],
          "name": "stdout"
        },
        {
          "output_type": "display_data",
          "data": {
            "image/png": "[encoded data removed]",
            "text/plain": [
              "<Figure size 432x288 with 1 Axes>"
            ]
          },
          "metadata": {
            "tags": [],
            "needs_background": "light"
          }
        }
      ]
    },
    {
      "cell_type": "markdown",
      "metadata": {
        "id": "f-JsPtVivyQK"
      },
      "source": [
        "# linear regression"
      ]
    },
    {
      "cell_type": "code",
      "metadata": {
        "id": "VuLdaYqJvBjx"
      },
      "source": [
        "from sklearn.metrics import mean_absolute_error, mean_squared_error, mean_squared_log_error, max_error"
      ],
      "execution_count": 333,
      "outputs": []
    },
    {
      "cell_type": "code",
      "metadata": {
        "colab": {
          "base_uri": "https://localhost:8080/"
        },
        "id": "Pxx2Oe2MvJqo",
        "outputId": "3c22865a-8484-4f73-edcc-f3d012bdc79c"
      },
      "source": [
        "from sklearn.linear_model import LinearRegression\n",
        "reg = LinearRegression().fit(X_train, Y_train)# fit train data\n",
        "score=reg.score(X_test,Y_test)\n",
        "print('score=',score)\n",
        "coef=reg.coef_"
      ],
      "execution_count": 334,
      "outputs": [
        {
          "output_type": "stream",
          "text": [
            "score= -19.000853953688985\n"
          ],
          "name": "stdout"
        }
      ]
    },
    {
      "cell_type": "code",
      "metadata": {
        "id": "-YuJscddvJtN"
      },
      "source": [
        "predict= reg.predict(X_test)"
      ],
      "execution_count": 335,
      "outputs": []
    },
    {
      "cell_type": "code",
      "metadata": {
        "colab": {
          "base_uri": "https://localhost:8080/"
        },
        "id": "0IqGkSaLvOdI",
        "outputId": "e7f56be1-b7a8-4953-ef67-9fa79851a40d"
      },
      "source": [
        "mean_squared_error(Y_test, predict)"
      ],
      "execution_count": 336,
      "outputs": [
        {
          "output_type": "execute_result",
          "data": {
            "text/plain": [
              "0.21199884739177996"
            ]
          },
          "metadata": {
            "tags": []
          },
          "execution_count": 336
        }
      ]
    },
    {
      "cell_type": "code",
      "metadata": {
        "id": "Fhb4zjDbvOf_"
      },
      "source": [
        "from sklearn.model_selection import learning_curve\n",
        "ns_list=[100,200,400,600]\n",
        "ns_list,train_scores, valid_scores = learning_curve(LinearRegression(), X_train, Y_train,train_sizes = ns_list, scoring='neg_mean_squared_error')\n",
        "\n",
        "train_scores_mean =-np.mean(train_scores, axis=1)\n",
        "train_scores_std = np.std(train_scores, axis=1)\n",
        "valid_scores_mean =-np.mean(valid_scores, axis=1)\n",
        "valid_scores_std = np.std(valid_scores, axis=1)"
      ],
      "execution_count": 340,
      "outputs": []
    },
    {
      "cell_type": "code",
      "metadata": {
        "colab": {
          "base_uri": "https://localhost:8080/",
          "height": 0
        },
        "id": "-c4jApI3vTO4",
        "outputId": "5c2f46b2-b118-4e37-fdca-08aa284391d5"
      },
      "source": [
        "#plot\n",
        "plt_title = 'learning curve for regression with linear regression'#.format(k)\n",
        "\n",
        "fig = plt.figure()\n",
        "ax = fig.add_subplot(111, xlabel='#sample', ylabel='l2 loss score', title=plt_title)\n",
        "plt.plot(ns_list, train_scores_mean, label=\"Training score\",\n",
        "             color=\"darkorange\", lw=2)\n",
        "plt.fill_between(ns_list, train_scores_mean - train_scores_std,\n",
        "                 train_scores_mean + train_scores_std, alpha=0.2,\n",
        "                 color=\"darkorange\", lw=2)\n",
        "plt.plot(ns_list, valid_scores_mean, label=\"Validation score\",\n",
        "             color=\"navy\", lw=2)\n",
        "plt.fill_between(ns_list, valid_scores_mean - valid_scores_std,\n",
        "                 valid_scores_mean + valid_scores_std, alpha=0.2,\n",
        "                 color=\"navy\", lw=2)\n",
        "plt.legend(loc=\"best\")\n",
        "plt.savefig('learning_lin_l2_loss.png', dpi = 500)\n",
        "# plt.savefig('learning_lin_l2_loss.eps', format='eps',dpi=300)\n",
        "plt.grid()\n",
        "plt.show()"
      ],
      "execution_count": 341,
      "outputs": [
        {
          "output_type": "display_data",
          "data": {
            "image/png": "[encoded data removed]",
            "text/plain": [
              "<Figure size 432x288 with 1 Axes>"
            ]
          },
          "metadata": {
            "tags": [],
            "needs_background": "light"
          }
        }
      ]
    },
    {
      "cell_type": "markdown",
      "metadata": {
        "id": "fJT_CCSYuwqR"
      },
      "source": [
        "# polynomial regression"
      ]
    },
    {
      "cell_type": "code",
      "metadata": {
        "colab": {
          "base_uri": "https://localhost:8080/"
        },
        "id": "lNUZzDqWtUjy",
        "outputId": "b32b2cbe-0e07-4e9e-d8af-d357353d4066"
      },
      "source": [
        "from sklearn.preprocessing import PolynomialFeatures\n",
        "from sklearn.linear_model import LinearRegression\n",
        "from sklearn.pipeline import make_pipeline\n",
        "from sklearn.model_selection import train_test_split\n",
        "from sklearn.metrics import mean_absolute_error, mean_squared_error\n",
        "X_train, X_test, Y_train, Y_test = train_test_split(X, y,shuffle=False)\n",
        "polyreg=make_pipeline(PolynomialFeatures(degree=2),LinearRegression())\n",
        "polyreg.fit(X_train,Y_train)"
      ],
      "execution_count": 326,
      "outputs": [
        {
          "output_type": "execute_result",
          "data": {
            "text/plain": [
              "Pipeline(memory=None,\n",
              "         steps=[('polynomialfeatures',\n",
              "                 PolynomialFeatures(degree=2, include_bias=True,\n",
              "                                    interaction_only=False, order='C')),\n",
              "                ('linearregression',\n",
              "                 LinearRegression(copy_X=True, fit_intercept=True, n_jobs=None,\n",
              "                                  normalize=False))],\n",
              "         verbose=False)"
            ]
          },
          "metadata": {
            "tags": []
          },
          "execution_count": 326
        }
      ]
    },
    {
      "cell_type": "code",
      "metadata": {
        "colab": {
          "base_uri": "https://localhost:8080/"
        },
        "id": "f4YeRdyCtkHO",
        "outputId": "eff8cb9d-2b7c-42a2-caba-58801bd4ca96"
      },
      "source": [
        "polyreg.predict(X_test)\n",
        "print(polyreg.score(X_test,Y_test))"
      ],
      "execution_count": 327,
      "outputs": [
        {
          "output_type": "stream",
          "text": [
            "-9.738129039039734\n"
          ],
          "name": "stdout"
        }
      ]
    },
    {
      "cell_type": "code",
      "metadata": {
        "colab": {
          "base_uri": "https://localhost:8080/"
        },
        "id": "BmCXwxmJtk0Q",
        "outputId": "608902bd-5d32-4d62-8ec8-56a1fdbc827b"
      },
      "source": [
        "from sklearn.metrics import r2_score\n",
        "# R2 (test)\n",
        "r2_score(Y_test,polyreg.predict(X_test))"
      ],
      "execution_count": 328,
      "outputs": [
        {
          "output_type": "execute_result",
          "data": {
            "text/plain": [
              "-9.738129039039734"
            ]
          },
          "metadata": {
            "tags": []
          },
          "execution_count": 328
        }
      ]
    },
    {
      "cell_type": "code",
      "metadata": {
        "colab": {
          "base_uri": "https://localhost:8080/"
        },
        "id": "Z5KcpucOtk55",
        "outputId": "5bd584c9-5388-4e71-dee8-38b193a5ecb6"
      },
      "source": [
        "#R2 (train)\n",
        "r2_score(Y_train,polyreg.predict(X_train))"
      ],
      "execution_count": 329,
      "outputs": [
        {
          "output_type": "execute_result",
          "data": {
            "text/plain": [
              "0.6594296402951756"
            ]
          },
          "metadata": {
            "tags": []
          },
          "execution_count": 329
        }
      ]
    },
    {
      "cell_type": "code",
      "metadata": {
        "colab": {
          "base_uri": "https://localhost:8080/"
        },
        "id": "9pUgmXyXtqpy",
        "outputId": "d2b5e9a0-c31d-4753-a8fe-a95c4b3b432f"
      },
      "source": [
        "# MSE(test)\n",
        "mean_squared_error( polyreg.predict(X_test),Y_test)"
      ],
      "execution_count": 330,
      "outputs": [
        {
          "output_type": "execute_result",
          "data": {
            "text/plain": [
              "0.1138186891765564"
            ]
          },
          "metadata": {
            "tags": []
          },
          "execution_count": 330
        }
      ]
    },
    {
      "cell_type": "code",
      "metadata": {
        "id": "FbuFvtbRtqsQ"
      },
      "source": [
        "degrees = np.arange(1, 4)\n",
        "from sklearn.model_selection import validation_curve\n",
        "train_scores, valid_scores = validation_curve(polyreg, X_train, Y_train,param_name='polynomialfeatures__degree',\n",
        "                 param_range=degrees ,  scoring='neg_mean_squared_error' )\n",
        "train_scores_mean =-np.mean(train_scores, axis=1)\n",
        "train_scores_std = np.std(train_scores, axis=1)\n",
        "valid_scores_mean =-np.mean(valid_scores, axis=1)\n",
        "valid_scores_std = np.std(valid_scores, axis=1)"
      ],
      "execution_count": 331,
      "outputs": []
    },
    {
      "cell_type": "code",
      "metadata": {
        "colab": {
          "base_uri": "https://localhost:8080/",
          "height": 0
        },
        "id": "XxvIcnCTuotw",
        "outputId": "8204c8d9-9daf-419c-da6c-44378ea7eb29"
      },
      "source": [
        "plt_title = '   Validation curve for regression with polynomial regression'#.format(k)\n",
        "fig = plt.figure()\n",
        "ax = fig.add_subplot(111, xlabel='degrees', ylabel='L2-loss score', title=plt_title)\n",
        "\n",
        "plt.semilogy(degrees, valid_scores_mean, label=\"Validation score\",marker='*',\n",
        "             color=\"navy\", lw=2)\n",
        "plt.semilogy(degrees, train_scores_mean, label=\"Training score\",marker='*',\n",
        "             color=\"darkorange\", lw=2)\n",
        "plt.fill_between(degrees, train_scores_mean - train_scores_std,\n",
        "                 train_scores_mean + train_scores_std, alpha=0.2,\n",
        "                 color=\"darkorange\", lw=2)\n",
        "\n",
        "plt.fill_between(degrees, valid_scores_mean - valid_scores_std,\n",
        "                 valid_scores_mean + valid_scores_std, alpha=0.2,\n",
        "                 color=\"navy\", lw=2)\n",
        "plt.legend(loc=\"best\")\n",
        "\n",
        "# plt.savefig('validation_poly_l2_loss.eps', format='eps',dpi=300)\n",
        "plt.grid()\n",
        "\n",
        "plt.savefig('validation_poly_l2_loss.png', dpi = 300)\n",
        "plt.show()"
      ],
      "execution_count": 332,
      "outputs": [
        {
          "output_type": "display_data",
          "data": {
            "image/png": "[encoded data removed]",
            "text/plain": [
              "<Figure size 432x288 with 1 Axes>"
            ]
          },
          "metadata": {
            "tags": [],
            "needs_background": "light"
          }
        }
      ]
    }
  ]
}